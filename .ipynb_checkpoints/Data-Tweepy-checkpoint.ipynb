{
 "cells": [
  {
   "cell_type": "markdown",
   "metadata": {
    "id": "FVsQh-0KFByU"
   },
   "source": [
    "## Import The Libraries and Packages\n"
   ]
  },
  {
   "cell_type": "code",
   "execution_count": 1,
   "metadata": {},
   "outputs": [
    {
     "name": "stdout",
     "output_type": "stream",
     "text": [
      "Done!!\n"
     ]
    }
   ],
   "source": [
    "#!conda install -c conda-forge tweepy --yes\n",
    "import tweepy\n",
    "\n",
    "print('Done!!')"
   ]
  },
  {
   "cell_type": "code",
   "execution_count": 2,
   "metadata": {
    "id": "Dt8m1C_iFZhT"
   },
   "outputs": [],
   "source": [
    "# Import the libraries\n",
    "import pandas as pd\n",
    "import numpy as np"
   ]
  },
  {
   "cell_type": "markdown",
   "metadata": {
    "id": "5qWoPdI6FmXU"
   },
   "source": [
    "## Load the Data and Authenticate to Twitter\n"
   ]
  },
  {
   "cell_type": "code",
   "execution_count": 7,
   "metadata": {
    "colab": {
     "base_uri": "https://localhost:8080/",
     "height": 73,
     "resources": {
      "http://localhost:8080/nbextensions/google.colab/files.js": {
       "data": "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",
       "headers": [
        [
         "content-type",
         "application/javascript"
        ]
       ],
       "ok": true,
       "status": 200,
       "status_text": ""
      }
     }
    },
    "id": "cncjnVtZFuw_",
    "outputId": "b35fb349-dcfd-4289-e7f9-5d4a377c94b2"
   },
   "outputs": [],
   "source": [
    "log = pd.read_csv(\"Login.csv\")"
   ]
  },
  {
   "cell_type": "code",
   "execution_count": 8,
   "metadata": {
    "id": "KQUtq7EVG5Ts"
   },
   "outputs": [],
   "source": [
    "# Twitter Api Credentials\n",
    "consumerKey = log[\"key\"][0]\n",
    "consumerSecret = log[\"key\"][1]\n",
    "accessToken = log[\"key\"][2]\n",
    "accessTokenSecret = log[\"key\"][3]"
   ]
  },
  {
   "cell_type": "code",
   "execution_count": 9,
   "metadata": {
    "colab": {
     "base_uri": "https://localhost:8080/"
    },
    "id": "1AHSRHnkHJrW",
    "outputId": "a9aed632-e87c-4346-d6b8-88243b8d67a3"
   },
   "outputs": [
    {
     "name": "stdout",
     "output_type": "stream",
     "text": [
      "Authentication OK\n"
     ]
    }
   ],
   "source": [
    "# Create the authentication object\n",
    "authenticate = tweepy.OAuthHandler(consumerKey, consumerSecret) \n",
    "    \n",
    "# Set the access token and access token secret\n",
    "authenticate.set_access_token(accessToken, accessTokenSecret) \n",
    "    \n",
    "# Creating the API object while passing in auth information\n",
    "api = tweepy.API(authenticate, wait_on_rate_limit = True)\n",
    "try:\n",
    "    api.verify_credentials()\n",
    "    print(\"Authentication OK\")\n",
    "except:\n",
    "    print(\"Error during authentication\")"
   ]
  },
  {
   "cell_type": "markdown",
   "metadata": {
    "id": "QY2lUSmRHbwX"
   },
   "source": [
    "# Extract  the Data \n"
   ]
  },
  {
   "cell_type": "code",
   "execution_count": 6,
   "metadata": {},
   "outputs": [],
   "source": [
    "posts = api.search(q='اللقاح', geocode = '31.958090,35.945810,100km',lang = 'ar', count = 100, until='2021-04-11')\n"
   ]
  },
  {
   "cell_type": "code",
   "execution_count": 17,
   "metadata": {
    "scrolled": false
   },
   "outputs": [
    {
     "data": {
      "text/html": [
       "<div>\n",
       "<style scoped>\n",
       "    .dataframe tbody tr th:only-of-type {\n",
       "        vertical-align: middle;\n",
       "    }\n",
       "\n",
       "    .dataframe tbody tr th {\n",
       "        vertical-align: top;\n",
       "    }\n",
       "\n",
       "    .dataframe thead th {\n",
       "        text-align: right;\n",
       "    }\n",
       "</style>\n",
       "<table border=\"1\" class=\"dataframe\">\n",
       "  <thead>\n",
       "    <tr style=\"text-align: right;\">\n",
       "      <th></th>\n",
       "      <th>Tweets</th>\n",
       "      <th>created_at</th>\n",
       "      <th>geo</th>\n",
       "      <th>coordinates</th>\n",
       "      <th>place</th>\n",
       "      <th>lang</th>\n",
       "      <th>entities</th>\n",
       "    </tr>\n",
       "  </thead>\n",
       "  <tbody>\n",
       "    <tr>\n",
       "      <th>0</th>\n",
       "      <td>RT @Hananqabartai: تلقيك #مطعوم_كورونا لا يمنع...</td>\n",
       "      <td>2021-04-10 17:31:20</td>\n",
       "      <td>None</td>\n",
       "      <td>None</td>\n",
       "      <td>None</td>\n",
       "      <td>ar</td>\n",
       "      <td>{'hashtags': [{'text': 'مطعوم_كورونا', 'indice...</td>\n",
       "    </tr>\n",
       "    <tr>\n",
       "      <th>1</th>\n",
       "      <td>RT @Hananqabartai: للعلم ، انا اخذت #مطعوم_است...</td>\n",
       "      <td>2021-04-10 17:31:16</td>\n",
       "      <td>None</td>\n",
       "      <td>None</td>\n",
       "      <td>None</td>\n",
       "      <td>ar</td>\n",
       "      <td>{'hashtags': [{'text': 'مطعوم_استرازينكا', 'in...</td>\n",
       "    </tr>\n",
       "    <tr>\n",
       "      <th>2</th>\n",
       "      <td>عاجل.. مليون و115 الف مواطن سجلوا لتلقي مطعوم ...</td>\n",
       "      <td>2021-04-10 17:17:12</td>\n",
       "      <td>None</td>\n",
       "      <td>None</td>\n",
       "      <td>None</td>\n",
       "      <td>ar</td>\n",
       "      <td>{'hashtags': [{'text': 'صحيفة_الراي', 'indices...</td>\n",
       "    </tr>\n",
       "    <tr>\n",
       "      <th>3</th>\n",
       "      <td>للذين يرفضون أخد مطعوم كورونا.. https://t.co/z...</td>\n",
       "      <td>2021-04-10 17:02:27</td>\n",
       "      <td>None</td>\n",
       "      <td>None</td>\n",
       "      <td>None</td>\n",
       "      <td>ar</td>\n",
       "      <td>{'hashtags': [], 'symbols': [], 'user_mentions...</td>\n",
       "    </tr>\n",
       "    <tr>\n",
       "      <th>4</th>\n",
       "      <td>RT @MoeAlmomani95: تحذير بخصوص المطعوم:\\nاو عن...</td>\n",
       "      <td>2021-04-10 10:53:52</td>\n",
       "      <td>None</td>\n",
       "      <td>None</td>\n",
       "      <td>None</td>\n",
       "      <td>ar</td>\n",
       "      <td>{'hashtags': [], 'symbols': [], 'user_mentions...</td>\n",
       "    </tr>\n",
       "  </tbody>\n",
       "</table>\n",
       "</div>"
      ],
      "text/plain": [
       "                                              Tweets          created_at  \\\n",
       "0  RT @Hananqabartai: تلقيك #مطعوم_كورونا لا يمنع... 2021-04-10 17:31:20   \n",
       "1  RT @Hananqabartai: للعلم ، انا اخذت #مطعوم_است... 2021-04-10 17:31:16   \n",
       "2  عاجل.. مليون و115 الف مواطن سجلوا لتلقي مطعوم ... 2021-04-10 17:17:12   \n",
       "3  للذين يرفضون أخد مطعوم كورونا.. https://t.co/z... 2021-04-10 17:02:27   \n",
       "4  RT @MoeAlmomani95: تحذير بخصوص المطعوم:\\nاو عن... 2021-04-10 10:53:52   \n",
       "\n",
       "    geo coordinates place lang  \\\n",
       "0  None        None  None   ar   \n",
       "1  None        None  None   ar   \n",
       "2  None        None  None   ar   \n",
       "3  None        None  None   ar   \n",
       "4  None        None  None   ar   \n",
       "\n",
       "                                            entities  \n",
       "0  {'hashtags': [{'text': 'مطعوم_كورونا', 'indice...  \n",
       "1  {'hashtags': [{'text': 'مطعوم_استرازينكا', 'in...  \n",
       "2  {'hashtags': [{'text': 'صحيفة_الراي', 'indices...  \n",
       "3  {'hashtags': [], 'symbols': [], 'user_mentions...  \n",
       "4  {'hashtags': [], 'symbols': [], 'user_mentions...  "
      ]
     },
     "execution_count": 17,
     "metadata": {},
     "output_type": "execute_result"
    }
   ],
   "source": [
    "#Create a DataFrame and then show the first five rows.\n",
    "\n",
    "df = pd.DataFrame(zip([tweet.text for tweet in posts],\n",
    "                   [tweet.created_at for tweet in posts],\n",
    "                   [tweet.geo for tweet in posts],\n",
    "                   [tweet.coordinates for tweet in posts],\n",
    "                   [tweet.place for tweet in posts],\n",
    "                   [tweet.lang for tweet in posts],\n",
    "                   [tweet.entities for tweet in posts]\n",
    "                  ), columns=['Tweets' , 'created_at' , 'geo' , 'coordinates' , 'place', 'lang','entities'])\n",
    "\n",
    "df.head()"
   ]
  },
  {
   "cell_type": "code",
   "execution_count": 11,
   "metadata": {},
   "outputs": [],
   "source": [
    "# this function will creat a DataFrame :\n",
    "\n",
    "def DataFrame(posts , path) :\n",
    "    df = pd.DataFrame(zip([tweet.text for tweet in posts],\n",
    "                   [tweet.created_at for tweet in posts],\n",
    "                   [tweet.geo for tweet in posts],\n",
    "                   [tweet.coordinates for tweet in posts],\n",
    "                   [tweet.place for tweet in posts],\n",
    "                   [tweet.lang for tweet in posts],\n",
    "                   [tweet.entities for tweet in posts]\n",
    "                  ), columns=['Tweets' , 'created_at' , 'geo' , 'coordinates' , 'place', 'lang','entities'])\n",
    "    df.to_csv(path , encoding='utf-8')\n",
    "    return df"
   ]
  },
  {
   "cell_type": "code",
   "execution_count": 12,
   "metadata": {},
   "outputs": [],
   "source": [
    "qr= {1:'اللقاح',\n",
    "         2:'لقاح' , \n",
    "        3: 'مطعوم',\n",
    "        4:'المطعوم',\n",
    "        5: 'المطاعيم',\n",
    "        6:'مطاعيم'}\n"
   ]
  },
  {
   "cell_type": "markdown",
   "metadata": {},
   "source": [
    "# Search for the date (11/4):"
   ]
  },
  {
   "cell_type": "code",
   "execution_count": 47,
   "metadata": {},
   "outputs": [],
   "source": [
    "posts = api.search(q=qr[1], geocode = '31.958090,35.945810,100km',lang = 'ar', count = 100, until='2021-04-11')"
   ]
  },
  {
   "cell_type": "code",
   "execution_count": 48,
   "metadata": {},
   "outputs": [],
   "source": [
    "posts1 = api.search(q=qr[2], geocode = '31.958090,35.945810,100km',lang = 'ar', count = 100, until='2021-04-11')"
   ]
  },
  {
   "cell_type": "code",
   "execution_count": 49,
   "metadata": {},
   "outputs": [],
   "source": [
    "posts2 = api.search(q=qr[3], geocode = '31.958090,35.945810,100km',lang = 'ar', count = 100, until='2021-04-11')"
   ]
  },
  {
   "cell_type": "code",
   "execution_count": 50,
   "metadata": {},
   "outputs": [],
   "source": [
    "posts3 = api.search(q=qr[4], geocode = '31.958090,35.945810,100km',lang = 'ar', count = 100, until='2021-04-11')"
   ]
  },
  {
   "cell_type": "code",
   "execution_count": 51,
   "metadata": {},
   "outputs": [],
   "source": [
    "posts4 = api.search(q=qr[5], geocode = '31.958090,35.945810,100km',lang = 'ar', count = 100, until='2021-04-11')"
   ]
  },
  {
   "cell_type": "code",
   "execution_count": 52,
   "metadata": {},
   "outputs": [],
   "source": [
    "posts5 = api.search(q=qr[6], geocode = '31.958090,35.945810,100km',lang = 'ar', count = 100, until='2021-04-11')"
   ]
  },
  {
   "cell_type": "code",
   "execution_count": 53,
   "metadata": {},
   "outputs": [],
   "source": [
    "posts6 = api.search(q='مطعوم', geocode = '30.521705,36.188436,77km',lang = 'ar', count = 100, until='2021-04-11')"
   ]
  },
  {
   "cell_type": "markdown",
   "metadata": {},
   "source": [
    "creat a DataFrame :\n"
   ]
  },
  {
   "cell_type": "code",
   "execution_count": 15,
   "metadata": {},
   "outputs": [],
   "source": [
    "\n",
    "df1 = DataFrame(posts , 'Data\\Tweepy\\data0.csv')\n",
    "df2 = DataFrame(posts1 , 'Data\\Tweepy\\data1.csv')\n",
    "df3 = DataFrame(posts2 , 'Data\\Tweepy\\data2.csv')\n",
    "df4 = DataFrame(posts3 , 'Data\\Tweepy\\data3.csv')\n",
    "df5 = DataFrame(posts4 , 'Data\\Tweepy\\data4.csv')\n",
    "df6 = DataFrame(posts5 , 'Data\\Tweepy\\data5.csv')\n",
    "df7 = DataFrame(posts6 , 'Data\\Tweepy\\data6.csv')\n"
   ]
  },
  {
   "cell_type": "markdown",
   "metadata": {},
   "source": [
    "Concatanate the tabels :"
   ]
  },
  {
   "cell_type": "code",
   "execution_count": 49,
   "metadata": {},
   "outputs": [],
   "source": [
    " result = pd.concat([df1,df2,df3,df4,df5,df6]).reset_index(drop=True)"
   ]
  },
  {
   "cell_type": "code",
   "execution_count": 50,
   "metadata": {
    "scrolled": true
   },
   "outputs": [
    {
     "data": {
      "text/html": [
       "<div>\n",
       "<style scoped>\n",
       "    .dataframe tbody tr th:only-of-type {\n",
       "        vertical-align: middle;\n",
       "    }\n",
       "\n",
       "    .dataframe tbody tr th {\n",
       "        vertical-align: top;\n",
       "    }\n",
       "\n",
       "    .dataframe thead th {\n",
       "        text-align: right;\n",
       "    }\n",
       "</style>\n",
       "<table border=\"1\" class=\"dataframe\">\n",
       "  <thead>\n",
       "    <tr style=\"text-align: right;\">\n",
       "      <th></th>\n",
       "      <th>Tweets</th>\n",
       "      <th>created_at</th>\n",
       "      <th>geo</th>\n",
       "      <th>coordinates</th>\n",
       "      <th>place</th>\n",
       "      <th>lang</th>\n",
       "      <th>entities</th>\n",
       "    </tr>\n",
       "  </thead>\n",
       "  <tbody>\n",
       "    <tr>\n",
       "      <th>0</th>\n",
       "      <td>الهواري: اللقاح منع تصاعد الحالة الوبائية وموج...</td>\n",
       "      <td>2021-04-10 23:31:45</td>\n",
       "      <td>None</td>\n",
       "      <td>None</td>\n",
       "      <td>None</td>\n",
       "      <td>ar</td>\n",
       "      <td>{'hashtags': [], 'symbols': [], 'user_mentions...</td>\n",
       "    </tr>\n",
       "    <tr>\n",
       "      <th>1</th>\n",
       "      <td>صحة إربد: 100 ألف شخص تلقوا اللقاح وإقبال متزا...</td>\n",
       "      <td>2021-04-10 22:50:24</td>\n",
       "      <td>None</td>\n",
       "      <td>None</td>\n",
       "      <td>None</td>\n",
       "      <td>ar</td>\n",
       "      <td>{'hashtags': [{'text': 'الاردن', 'indices': [8...</td>\n",
       "    </tr>\n",
       "    <tr>\n",
       "      <th>2</th>\n",
       "      <td>@Sarsak24 @khaberni انا وجهة نظري ، الحل الافض...</td>\n",
       "      <td>2021-04-10 22:43:19</td>\n",
       "      <td>None</td>\n",
       "      <td>None</td>\n",
       "      <td>None</td>\n",
       "      <td>ar</td>\n",
       "      <td>{'hashtags': [], 'symbols': [], 'user_mentions...</td>\n",
       "    </tr>\n",
       "    <tr>\n",
       "      <th>3</th>\n",
       "      <td>@alialasmar89 @khaberni لا تخاطر يا اخ خذ اللق...</td>\n",
       "      <td>2021-04-10 22:38:09</td>\n",
       "      <td>None</td>\n",
       "      <td>None</td>\n",
       "      <td>None</td>\n",
       "      <td>ar</td>\n",
       "      <td>{'hashtags': [], 'symbols': [], 'user_mentions...</td>\n",
       "    </tr>\n",
       "    <tr>\n",
       "      <th>4</th>\n",
       "      <td>RT @Dr_abdoty: ليش ناخذ اللقاح؟\\nشنو الهدف منه...</td>\n",
       "      <td>2021-04-10 22:32:11</td>\n",
       "      <td>None</td>\n",
       "      <td>None</td>\n",
       "      <td>None</td>\n",
       "      <td>ar</td>\n",
       "      <td>{'hashtags': [], 'symbols': [], 'user_mentions...</td>\n",
       "    </tr>\n",
       "    <tr>\n",
       "      <th>...</th>\n",
       "      <td>...</td>\n",
       "      <td>...</td>\n",
       "      <td>...</td>\n",
       "      <td>...</td>\n",
       "      <td>...</td>\n",
       "      <td>...</td>\n",
       "      <td>...</td>\n",
       "    </tr>\n",
       "    <tr>\n",
       "      <th>450</th>\n",
       "      <td>RT @alrai: #عاجل ..رسائل نصية لـ 25,796 شخصا ل...</td>\n",
       "      <td>2021-04-04 05:46:04</td>\n",
       "      <td>None</td>\n",
       "      <td>None</td>\n",
       "      <td>None</td>\n",
       "      <td>ar</td>\n",
       "      <td>{'hashtags': [{'text': 'عاجل', 'indices': [11,...</td>\n",
       "    </tr>\n",
       "    <tr>\n",
       "      <th>451</th>\n",
       "      <td>#عاجل ..رسائل نصية لـ 25,796 شخصا لتلقي الجرعة...</td>\n",
       "      <td>2021-04-04 05:45:43</td>\n",
       "      <td>None</td>\n",
       "      <td>None</td>\n",
       "      <td>None</td>\n",
       "      <td>ar</td>\n",
       "      <td>{'hashtags': [{'text': 'عاجل', 'indices': [0, ...</td>\n",
       "    </tr>\n",
       "    <tr>\n",
       "      <th>452</th>\n",
       "      <td>RT @AsemHMansour: إذا ما تعثر مطعوم أسترازينيك...</td>\n",
       "      <td>2021-04-03 23:19:46</td>\n",
       "      <td>None</td>\n",
       "      <td>None</td>\n",
       "      <td>None</td>\n",
       "      <td>ar</td>\n",
       "      <td>{'hashtags': [], 'symbols': [], 'user_mentions...</td>\n",
       "    </tr>\n",
       "    <tr>\n",
       "      <th>453</th>\n",
       "      <td>RT @aabuseido: ** مطعوم أسترازينكا ... المحلق ...</td>\n",
       "      <td>2021-04-03 23:11:31</td>\n",
       "      <td>None</td>\n",
       "      <td>None</td>\n",
       "      <td>None</td>\n",
       "      <td>ar</td>\n",
       "      <td>{'hashtags': [], 'symbols': [], 'user_mentions...</td>\n",
       "    </tr>\n",
       "    <tr>\n",
       "      <th>454</th>\n",
       "      <td>RT @aabuseido: ** مطعوم أسترازينكا ... المحلق ...</td>\n",
       "      <td>2021-04-03 20:28:44</td>\n",
       "      <td>None</td>\n",
       "      <td>None</td>\n",
       "      <td>None</td>\n",
       "      <td>ar</td>\n",
       "      <td>{'hashtags': [], 'symbols': [], 'user_mentions...</td>\n",
       "    </tr>\n",
       "  </tbody>\n",
       "</table>\n",
       "<p>455 rows × 7 columns</p>\n",
       "</div>"
      ],
      "text/plain": [
       "                                                Tweets          created_at  \\\n",
       "0    الهواري: اللقاح منع تصاعد الحالة الوبائية وموج... 2021-04-10 23:31:45   \n",
       "1    صحة إربد: 100 ألف شخص تلقوا اللقاح وإقبال متزا... 2021-04-10 22:50:24   \n",
       "2    @Sarsak24 @khaberni انا وجهة نظري ، الحل الافض... 2021-04-10 22:43:19   \n",
       "3    @alialasmar89 @khaberni لا تخاطر يا اخ خذ اللق... 2021-04-10 22:38:09   \n",
       "4    RT @Dr_abdoty: ليش ناخذ اللقاح؟\\nشنو الهدف منه... 2021-04-10 22:32:11   \n",
       "..                                                 ...                 ...   \n",
       "450  RT @alrai: #عاجل ..رسائل نصية لـ 25,796 شخصا ل... 2021-04-04 05:46:04   \n",
       "451  #عاجل ..رسائل نصية لـ 25,796 شخصا لتلقي الجرعة... 2021-04-04 05:45:43   \n",
       "452  RT @AsemHMansour: إذا ما تعثر مطعوم أسترازينيك... 2021-04-03 23:19:46   \n",
       "453  RT @aabuseido: ** مطعوم أسترازينكا ... المحلق ... 2021-04-03 23:11:31   \n",
       "454  RT @aabuseido: ** مطعوم أسترازينكا ... المحلق ... 2021-04-03 20:28:44   \n",
       "\n",
       "      geo coordinates place lang  \\\n",
       "0    None        None  None   ar   \n",
       "1    None        None  None   ar   \n",
       "2    None        None  None   ar   \n",
       "3    None        None  None   ar   \n",
       "4    None        None  None   ar   \n",
       "..    ...         ...   ...  ...   \n",
       "450  None        None  None   ar   \n",
       "451  None        None  None   ar   \n",
       "452  None        None  None   ar   \n",
       "453  None        None  None   ar   \n",
       "454  None        None  None   ar   \n",
       "\n",
       "                                              entities  \n",
       "0    {'hashtags': [], 'symbols': [], 'user_mentions...  \n",
       "1    {'hashtags': [{'text': 'الاردن', 'indices': [8...  \n",
       "2    {'hashtags': [], 'symbols': [], 'user_mentions...  \n",
       "3    {'hashtags': [], 'symbols': [], 'user_mentions...  \n",
       "4    {'hashtags': [], 'symbols': [], 'user_mentions...  \n",
       "..                                                 ...  \n",
       "450  {'hashtags': [{'text': 'عاجل', 'indices': [11,...  \n",
       "451  {'hashtags': [{'text': 'عاجل', 'indices': [0, ...  \n",
       "452  {'hashtags': [], 'symbols': [], 'user_mentions...  \n",
       "453  {'hashtags': [], 'symbols': [], 'user_mentions...  \n",
       "454  {'hashtags': [], 'symbols': [], 'user_mentions...  \n",
       "\n",
       "[455 rows x 7 columns]"
      ]
     },
     "execution_count": 50,
     "metadata": {},
     "output_type": "execute_result"
    }
   ],
   "source": [
    " result"
   ]
  },
  {
   "cell_type": "code",
   "execution_count": 51,
   "metadata": {},
   "outputs": [],
   "source": [
    "result.to_csv('Data\\Tweepy\\All_data.csv' , encoding='utf-8')"
   ]
  },
  {
   "cell_type": "markdown",
   "metadata": {},
   "source": [
    "___________________________________"
   ]
  },
  {
   "cell_type": "markdown",
   "metadata": {},
   "source": [
    "# Search for the date (17/4):"
   ]
  },
  {
   "cell_type": "code",
   "execution_count": 54,
   "metadata": {},
   "outputs": [],
   "source": [
    "posts = api.search(q=qr[1], geocode = '31.958090,35.945810,100km',lang = 'ar', count = 100, until='2021-04-17')"
   ]
  },
  {
   "cell_type": "code",
   "execution_count": 55,
   "metadata": {},
   "outputs": [],
   "source": [
    "posts1 = api.search(q=qr[2], geocode = '31.958090,35.945810,100km',lang = 'ar', count = 100, until='2021-04-17')"
   ]
  },
  {
   "cell_type": "code",
   "execution_count": 56,
   "metadata": {},
   "outputs": [],
   "source": [
    "posts2 = api.search(q=qr[3], geocode = '31.958090,35.945810,100km',lang = 'ar', count = 100, until='2021-04-17')"
   ]
  },
  {
   "cell_type": "code",
   "execution_count": 57,
   "metadata": {},
   "outputs": [],
   "source": [
    "posts3 = api.search(q=qr[4], geocode = '31.958090,35.945810,100km',lang = 'ar', count = 100, until='2021-04-17')"
   ]
  },
  {
   "cell_type": "code",
   "execution_count": 58,
   "metadata": {},
   "outputs": [],
   "source": [
    "posts4 = api.search(q=qr[5], geocode = '31.958090,35.945810,100km',lang = 'ar', count = 100, until='2021-04-17')"
   ]
  },
  {
   "cell_type": "code",
   "execution_count": 59,
   "metadata": {},
   "outputs": [],
   "source": [
    "posts5 = api.search(q=qr[6], geocode = '31.958090,35.945810,100km',lang = 'ar', count = 100, until='2021-04-17')"
   ]
  },
  {
   "cell_type": "code",
   "execution_count": 60,
   "metadata": {},
   "outputs": [],
   "source": [
    "posts6 = api.search(q='مطعوم', geocode = '30.521705,36.188436,77km',lang = 'ar', count = 100, until='2021-04-17')"
   ]
  },
  {
   "cell_type": "markdown",
   "metadata": {},
   "source": [
    "creat a DataFrame"
   ]
  },
  {
   "cell_type": "code",
   "execution_count": 17,
   "metadata": {},
   "outputs": [],
   "source": [
    "df1 = DataFrame(posts , 'Data\\Tweepy\\data0_17_4.csv')\n",
    "df2 = DataFrame(posts1 , 'Data\\Tweepy\\data1_17_4.csv')\n",
    "df3 = DataFrame(posts2 , 'Data\\Tweepy\\data2_17_4.csv')\n",
    "df4 = DataFrame(posts3 , 'Data\\Tweepy\\data3_17_4.csv')\n",
    "df5 = DataFrame(posts4 , 'Data\\Tweepy\\data4_17_4.csv')\n",
    "df6 = DataFrame(posts5 , 'Data\\Tweepy\\data5_17_4.csv')\n",
    "df7 = DataFrame(posts6 , 'Data\\Tweepy\\data6_17_4.csv')"
   ]
  },
  {
   "cell_type": "markdown",
   "metadata": {},
   "source": [
    "Concatanate the tabels :"
   ]
  },
  {
   "cell_type": "code",
   "execution_count": 18,
   "metadata": {},
   "outputs": [],
   "source": [
    "result = pd.concat([df1,df2,df3,df4,df5,df6]).reset_index(drop=True)"
   ]
  },
  {
   "cell_type": "code",
   "execution_count": 19,
   "metadata": {},
   "outputs": [],
   "source": [
    "result.to_csv('Data\\Tweepy\\All_data17_4.csv' , encoding='utf-8')"
   ]
  },
  {
   "cell_type": "code",
   "execution_count": 64,
   "metadata": {},
   "outputs": [
    {
     "data": {
      "text/html": [
       "<div>\n",
       "<style scoped>\n",
       "    .dataframe tbody tr th:only-of-type {\n",
       "        vertical-align: middle;\n",
       "    }\n",
       "\n",
       "    .dataframe tbody tr th {\n",
       "        vertical-align: top;\n",
       "    }\n",
       "\n",
       "    .dataframe thead th {\n",
       "        text-align: right;\n",
       "    }\n",
       "</style>\n",
       "<table border=\"1\" class=\"dataframe\">\n",
       "  <thead>\n",
       "    <tr style=\"text-align: right;\">\n",
       "      <th></th>\n",
       "      <th>Tweets</th>\n",
       "      <th>created_at</th>\n",
       "      <th>geo</th>\n",
       "      <th>coordinates</th>\n",
       "      <th>place</th>\n",
       "      <th>lang</th>\n",
       "      <th>entities</th>\n",
       "    </tr>\n",
       "  </thead>\n",
       "  <tbody>\n",
       "    <tr>\n",
       "      <th>0</th>\n",
       "      <td>RT @Dr_abdoty: ليش ناخذ اللقاح؟\\nشنو الهدف منه...</td>\n",
       "      <td>2021-04-16 22:49:56</td>\n",
       "      <td>NaN</td>\n",
       "      <td>NaN</td>\n",
       "      <td>NaN</td>\n",
       "      <td>ar</td>\n",
       "      <td>{'hashtags': [], 'symbols': [], 'user_mentions...</td>\n",
       "    </tr>\n",
       "    <tr>\n",
       "      <th>1</th>\n",
       "      <td>ميركل تأخذ اللقاح الاوروبي المثير للجدل\\nhttps...</td>\n",
       "      <td>2021-04-16 22:35:52</td>\n",
       "      <td>NaN</td>\n",
       "      <td>NaN</td>\n",
       "      <td>NaN</td>\n",
       "      <td>ar</td>\n",
       "      <td>{'hashtags': [], 'symbols': [], 'user_mentions...</td>\n",
       "    </tr>\n",
       "    <tr>\n",
       "      <th>2</th>\n",
       "      <td>وزير الخارجية القطري: حضور كأس العالم 2022 يجب...</td>\n",
       "      <td>2021-04-16 20:44:34</td>\n",
       "      <td>NaN</td>\n",
       "      <td>NaN</td>\n",
       "      <td>NaN</td>\n",
       "      <td>ar</td>\n",
       "      <td>{'hashtags': [{'text': 'الأردن_اليوم', 'indice...</td>\n",
       "    </tr>\n",
       "    <tr>\n",
       "      <th>3</th>\n",
       "      <td>وزير الخارجية القطري: حضور كأس العالم 2022 يجب...</td>\n",
       "      <td>2021-04-16 20:20:25</td>\n",
       "      <td>NaN</td>\n",
       "      <td>NaN</td>\n",
       "      <td>NaN</td>\n",
       "      <td>ar</td>\n",
       "      <td>{'hashtags': [], 'symbols': [], 'user_mentions...</td>\n",
       "    </tr>\n",
       "    <tr>\n",
       "      <th>4</th>\n",
       "      <td>وزير الخارجية القطري: حضور كأس العالم 2022 يجب...</td>\n",
       "      <td>2021-04-16 20:14:14</td>\n",
       "      <td>NaN</td>\n",
       "      <td>NaN</td>\n",
       "      <td>NaN</td>\n",
       "      <td>ar</td>\n",
       "      <td>{'hashtags': [], 'symbols': [], 'user_mentions...</td>\n",
       "    </tr>\n",
       "    <tr>\n",
       "      <th>...</th>\n",
       "      <td>...</td>\n",
       "      <td>...</td>\n",
       "      <td>...</td>\n",
       "      <td>...</td>\n",
       "      <td>...</td>\n",
       "      <td>...</td>\n",
       "      <td>...</td>\n",
       "    </tr>\n",
       "    <tr>\n",
       "      <th>438</th>\n",
       "      <td>قصدك تطعيم كوفيد صح؟ أي مطعوم؟ — أيوة صح+ أخذت...</td>\n",
       "      <td>2021-04-09 17:45:09</td>\n",
       "      <td>NaN</td>\n",
       "      <td>NaN</td>\n",
       "      <td>NaN</td>\n",
       "      <td>ar</td>\n",
       "      <td>{'hashtags': [], 'symbols': [], 'user_mentions...</td>\n",
       "    </tr>\n",
       "    <tr>\n",
       "      <th>439</th>\n",
       "      <td>RT @MoeAlmomani95: تحذير بخصوص المطعوم:\\nاو عن...</td>\n",
       "      <td>2021-04-09 17:32:15</td>\n",
       "      <td>NaN</td>\n",
       "      <td>NaN</td>\n",
       "      <td>NaN</td>\n",
       "      <td>ar</td>\n",
       "      <td>{'hashtags': [], 'symbols': [], 'user_mentions...</td>\n",
       "    </tr>\n",
       "    <tr>\n",
       "      <th>440</th>\n",
       "      <td>RT @MoeAlmomani95: تحذير بخصوص المطعوم:\\nاو عن...</td>\n",
       "      <td>2021-04-09 17:19:07</td>\n",
       "      <td>NaN</td>\n",
       "      <td>NaN</td>\n",
       "      <td>NaN</td>\n",
       "      <td>ar</td>\n",
       "      <td>{'hashtags': [], 'symbols': [], 'user_mentions...</td>\n",
       "    </tr>\n",
       "    <tr>\n",
       "      <th>441</th>\n",
       "      <td>RT @MoeAlmomani95: تحذير بخصوص المطعوم:\\nاو عن...</td>\n",
       "      <td>2021-04-09 17:16:03</td>\n",
       "      <td>NaN</td>\n",
       "      <td>NaN</td>\n",
       "      <td>NaN</td>\n",
       "      <td>ar</td>\n",
       "      <td>{'hashtags': [], 'symbols': [], 'user_mentions...</td>\n",
       "    </tr>\n",
       "    <tr>\n",
       "      <th>442</th>\n",
       "      <td>RT @MoeAlmomani95: تحذير بخصوص المطعوم:\\nاو عن...</td>\n",
       "      <td>2021-04-09 16:50:37</td>\n",
       "      <td>NaN</td>\n",
       "      <td>NaN</td>\n",
       "      <td>NaN</td>\n",
       "      <td>ar</td>\n",
       "      <td>{'hashtags': [], 'symbols': [], 'user_mentions...</td>\n",
       "    </tr>\n",
       "  </tbody>\n",
       "</table>\n",
       "<p>443 rows × 7 columns</p>\n",
       "</div>"
      ],
      "text/plain": [
       "                                                Tweets           created_at  \\\n",
       "0    RT @Dr_abdoty: ليش ناخذ اللقاح؟\\nشنو الهدف منه...  2021-04-16 22:49:56   \n",
       "1    ميركل تأخذ اللقاح الاوروبي المثير للجدل\\nhttps...  2021-04-16 22:35:52   \n",
       "2    وزير الخارجية القطري: حضور كأس العالم 2022 يجب...  2021-04-16 20:44:34   \n",
       "3    وزير الخارجية القطري: حضور كأس العالم 2022 يجب...  2021-04-16 20:20:25   \n",
       "4    وزير الخارجية القطري: حضور كأس العالم 2022 يجب...  2021-04-16 20:14:14   \n",
       "..                                                 ...                  ...   \n",
       "438  قصدك تطعيم كوفيد صح؟ أي مطعوم؟ — أيوة صح+ أخذت...  2021-04-09 17:45:09   \n",
       "439  RT @MoeAlmomani95: تحذير بخصوص المطعوم:\\nاو عن...  2021-04-09 17:32:15   \n",
       "440  RT @MoeAlmomani95: تحذير بخصوص المطعوم:\\nاو عن...  2021-04-09 17:19:07   \n",
       "441  RT @MoeAlmomani95: تحذير بخصوص المطعوم:\\nاو عن...  2021-04-09 17:16:03   \n",
       "442  RT @MoeAlmomani95: تحذير بخصوص المطعوم:\\nاو عن...  2021-04-09 16:50:37   \n",
       "\n",
       "     geo  coordinates place lang  \\\n",
       "0    NaN          NaN   NaN   ar   \n",
       "1    NaN          NaN   NaN   ar   \n",
       "2    NaN          NaN   NaN   ar   \n",
       "3    NaN          NaN   NaN   ar   \n",
       "4    NaN          NaN   NaN   ar   \n",
       "..   ...          ...   ...  ...   \n",
       "438  NaN          NaN   NaN   ar   \n",
       "439  NaN          NaN   NaN   ar   \n",
       "440  NaN          NaN   NaN   ar   \n",
       "441  NaN          NaN   NaN   ar   \n",
       "442  NaN          NaN   NaN   ar   \n",
       "\n",
       "                                              entities  \n",
       "0    {'hashtags': [], 'symbols': [], 'user_mentions...  \n",
       "1    {'hashtags': [], 'symbols': [], 'user_mentions...  \n",
       "2    {'hashtags': [{'text': 'الأردن_اليوم', 'indice...  \n",
       "3    {'hashtags': [], 'symbols': [], 'user_mentions...  \n",
       "4    {'hashtags': [], 'symbols': [], 'user_mentions...  \n",
       "..                                                 ...  \n",
       "438  {'hashtags': [], 'symbols': [], 'user_mentions...  \n",
       "439  {'hashtags': [], 'symbols': [], 'user_mentions...  \n",
       "440  {'hashtags': [], 'symbols': [], 'user_mentions...  \n",
       "441  {'hashtags': [], 'symbols': [], 'user_mentions...  \n",
       "442  {'hashtags': [], 'symbols': [], 'user_mentions...  \n",
       "\n",
       "[443 rows x 7 columns]"
      ]
     },
     "execution_count": 64,
     "metadata": {},
     "output_type": "execute_result"
    }
   ],
   "source": [
    "pd.read_csv('Data\\Tweepy\\All_data17_4.csv' , index_col=0)"
   ]
  },
  {
   "cell_type": "markdown",
   "metadata": {},
   "source": [
    "________________________________________"
   ]
  },
  {
   "cell_type": "markdown",
   "metadata": {},
   "source": [
    "# Search for the date(23/4):"
   ]
  },
  {
   "cell_type": "code",
   "execution_count": 35,
   "metadata": {},
   "outputs": [],
   "source": [
    "posts = api.search(q=qr[1], geocode = '31.958090,35.945810,100km',lang = 'ar', count = 100, until='2021-04-23')"
   ]
  },
  {
   "cell_type": "code",
   "execution_count": 36,
   "metadata": {},
   "outputs": [],
   "source": [
    "posts1 = api.search(q=qr[2], geocode = '31.958090,35.945810,100km',lang = 'ar', count = 100, until='2021-04-23')"
   ]
  },
  {
   "cell_type": "code",
   "execution_count": 37,
   "metadata": {},
   "outputs": [],
   "source": [
    "posts2 = api.search(q=qr[3], geocode = '31.958090,35.945810,100km',lang = 'ar', count = 100, until='2021-04-23')"
   ]
  },
  {
   "cell_type": "code",
   "execution_count": 38,
   "metadata": {},
   "outputs": [],
   "source": [
    "posts3 = api.search(q=qr[4], geocode = '31.958090,35.945810,100km',lang = 'ar', count = 100, until='2021-04-23')"
   ]
  },
  {
   "cell_type": "code",
   "execution_count": 39,
   "metadata": {},
   "outputs": [],
   "source": [
    "posts4 = api.search(q=qr[5], geocode = '31.958090,35.945810,100km',lang = 'ar', count = 100, until='2021-04-23')"
   ]
  },
  {
   "cell_type": "code",
   "execution_count": 40,
   "metadata": {},
   "outputs": [],
   "source": [
    "posts5 = api.search(q=qr[6], geocode = '31.958090,35.945810,100km',lang = 'ar', count = 100, until='2021-04-23')"
   ]
  },
  {
   "cell_type": "markdown",
   "metadata": {},
   "source": [
    "creat a DataFrame"
   ]
  },
  {
   "cell_type": "code",
   "execution_count": 41,
   "metadata": {},
   "outputs": [],
   "source": [
    "df1 = DataFrame(posts , 'Data\\Tweepy\\data0_23_4.csv')\n",
    "df2 = DataFrame(posts1 , 'Data\\Tweepy\\data1_23_4.csv')\n",
    "df3 = DataFrame(posts2 , 'Data\\Tweepy\\data2_23_4.csv')\n",
    "df4 = DataFrame(posts3 , 'Data\\Tweepy\\data3_23_4.csv')\n",
    "df5 = DataFrame(posts4 , 'Data\\Tweepy\\data4_23_4.csv')\n",
    "df6 = DataFrame(posts5 , 'Data\\Tweepy\\data5_23_4.csv')"
   ]
  },
  {
   "cell_type": "markdown",
   "metadata": {},
   "source": [
    "Concatanate the tabels :"
   ]
  },
  {
   "cell_type": "code",
   "execution_count": 42,
   "metadata": {},
   "outputs": [],
   "source": [
    "result = pd.concat([df1,df2,df3,df4,df5,df6]).reset_index(drop=True)"
   ]
  },
  {
   "cell_type": "code",
   "execution_count": 43,
   "metadata": {},
   "outputs": [],
   "source": [
    "result.to_csv('Data\\Tweepy\\All_data23_4.csv' , encoding='utf-8')"
   ]
  },
  {
   "cell_type": "code",
   "execution_count": 46,
   "metadata": {
    "scrolled": true
   },
   "outputs": [
    {
     "data": {
      "text/html": [
       "<div>\n",
       "<style scoped>\n",
       "    .dataframe tbody tr th:only-of-type {\n",
       "        vertical-align: middle;\n",
       "    }\n",
       "\n",
       "    .dataframe tbody tr th {\n",
       "        vertical-align: top;\n",
       "    }\n",
       "\n",
       "    .dataframe thead th {\n",
       "        text-align: right;\n",
       "    }\n",
       "</style>\n",
       "<table border=\"1\" class=\"dataframe\">\n",
       "  <thead>\n",
       "    <tr style=\"text-align: right;\">\n",
       "      <th></th>\n",
       "      <th>Tweets</th>\n",
       "      <th>created_at</th>\n",
       "      <th>geo</th>\n",
       "      <th>coordinates</th>\n",
       "      <th>place</th>\n",
       "      <th>lang</th>\n",
       "      <th>entities</th>\n",
       "    </tr>\n",
       "  </thead>\n",
       "  <tbody>\n",
       "    <tr>\n",
       "      <th>0</th>\n",
       "      <td>@MoathAbuOwn اذا كان كادر طبي له اولوية اللقاح...</td>\n",
       "      <td>2021-04-22 22:19:40</td>\n",
       "      <td>NaN</td>\n",
       "      <td>NaN</td>\n",
       "      <td>Place(_api=&lt;tweepy.api.API object at 0x000001C...</td>\n",
       "      <td>ar</td>\n",
       "      <td>{'hashtags': [], 'symbols': [], 'user_mentions...</td>\n",
       "    </tr>\n",
       "    <tr>\n",
       "      <th>1</th>\n",
       "      <td>عدد اللذين تلقوا المطاعيم حسب نوع اللقاح  :\\n\\...</td>\n",
       "      <td>2021-04-22 22:13:24</td>\n",
       "      <td>NaN</td>\n",
       "      <td>NaN</td>\n",
       "      <td>NaN</td>\n",
       "      <td>ar</td>\n",
       "      <td>{'hashtags': [], 'symbols': [], 'user_mentions...</td>\n",
       "    </tr>\n",
       "    <tr>\n",
       "      <th>2</th>\n",
       "      <td>”دايماً التطوع شيء حلو، وخصوصاً هاي الأيام، لأ...</td>\n",
       "      <td>2021-04-22 20:55:00</td>\n",
       "      <td>NaN</td>\n",
       "      <td>NaN</td>\n",
       "      <td>NaN</td>\n",
       "      <td>ar</td>\n",
       "      <td>{'hashtags': [], 'symbols': [], 'user_mentions...</td>\n",
       "    </tr>\n",
       "    <tr>\n",
       "      <th>3</th>\n",
       "      <td>@MkMheadat طلعلك استرازينيكا حتى لو انك تحت سن...</td>\n",
       "      <td>2021-04-22 20:16:00</td>\n",
       "      <td>NaN</td>\n",
       "      <td>NaN</td>\n",
       "      <td>NaN</td>\n",
       "      <td>ar</td>\n",
       "      <td>{'hashtags': [], 'symbols': [], 'user_mentions...</td>\n",
       "    </tr>\n",
       "    <tr>\n",
       "      <th>4</th>\n",
       "      <td>@SaudiMOH937 على الرغم من تفعيل الموقع في الجه...</td>\n",
       "      <td>2021-04-22 20:02:48</td>\n",
       "      <td>NaN</td>\n",
       "      <td>NaN</td>\n",
       "      <td>NaN</td>\n",
       "      <td>ar</td>\n",
       "      <td>{'hashtags': [], 'symbols': [], 'user_mentions...</td>\n",
       "    </tr>\n",
       "    <tr>\n",
       "      <th>...</th>\n",
       "      <td>...</td>\n",
       "      <td>...</td>\n",
       "      <td>...</td>\n",
       "      <td>...</td>\n",
       "      <td>...</td>\n",
       "      <td>...</td>\n",
       "      <td>...</td>\n",
       "    </tr>\n",
       "    <tr>\n",
       "      <th>391</th>\n",
       "      <td>#رؤية_١٨_نيسان_٢٠٢١\\n\\nصدور مطاعيم صينيه للاطف...</td>\n",
       "      <td>2021-04-21 14:39:47</td>\n",
       "      <td>NaN</td>\n",
       "      <td>NaN</td>\n",
       "      <td>NaN</td>\n",
       "      <td>ar</td>\n",
       "      <td>{'hashtags': [{'text': 'رؤية_١٨_نيسان_٢٠٢١', '...</td>\n",
       "    </tr>\n",
       "    <tr>\n",
       "      <th>392</th>\n",
       "      <td>@YZaatreh كان يصحيه من النوم و يقوله بدنا مطاع...</td>\n",
       "      <td>2021-04-21 11:06:32</td>\n",
       "      <td>NaN</td>\n",
       "      <td>NaN</td>\n",
       "      <td>NaN</td>\n",
       "      <td>ar</td>\n",
       "      <td>{'hashtags': [], 'symbols': [], 'user_mentions...</td>\n",
       "    </tr>\n",
       "    <tr>\n",
       "      <th>393</th>\n",
       "      <td>الصحة : 60 الف مسجل على منصة مطاعيم كورونا خلا...</td>\n",
       "      <td>2021-04-20 20:11:42</td>\n",
       "      <td>NaN</td>\n",
       "      <td>NaN</td>\n",
       "      <td>NaN</td>\n",
       "      <td>ar</td>\n",
       "      <td>{'hashtags': [{'text': 'الوكيل_الاخباري', 'ind...</td>\n",
       "    </tr>\n",
       "    <tr>\n",
       "      <th>394</th>\n",
       "      <td>مادام الامانة عندها فائض مادي \\nكان اتبرعت  وج...</td>\n",
       "      <td>2021-04-17 08:36:31</td>\n",
       "      <td>NaN</td>\n",
       "      <td>NaN</td>\n",
       "      <td>Place(_api=&lt;tweepy.api.API object at 0x000001C...</td>\n",
       "      <td>ar</td>\n",
       "      <td>{'hashtags': [], 'symbols': [], 'user_mentions...</td>\n",
       "    </tr>\n",
       "    <tr>\n",
       "      <th>395</th>\n",
       "      <td>كوبا المحاصرة تعادل عُشْرَ مصر مساحةًوسكاناً ت...</td>\n",
       "      <td>2021-04-17 03:40:57</td>\n",
       "      <td>NaN</td>\n",
       "      <td>NaN</td>\n",
       "      <td>Place(_api=&lt;tweepy.api.API object at 0x000001C...</td>\n",
       "      <td>ar</td>\n",
       "      <td>{'hashtags': [], 'symbols': [], 'user_mentions...</td>\n",
       "    </tr>\n",
       "  </tbody>\n",
       "</table>\n",
       "<p>396 rows × 7 columns</p>\n",
       "</div>"
      ],
      "text/plain": [
       "                                                Tweets           created_at  \\\n",
       "0    @MoathAbuOwn اذا كان كادر طبي له اولوية اللقاح...  2021-04-22 22:19:40   \n",
       "1    عدد اللذين تلقوا المطاعيم حسب نوع اللقاح  :\\n\\...  2021-04-22 22:13:24   \n",
       "2    ”دايماً التطوع شيء حلو، وخصوصاً هاي الأيام، لأ...  2021-04-22 20:55:00   \n",
       "3    @MkMheadat طلعلك استرازينيكا حتى لو انك تحت سن...  2021-04-22 20:16:00   \n",
       "4    @SaudiMOH937 على الرغم من تفعيل الموقع في الجه...  2021-04-22 20:02:48   \n",
       "..                                                 ...                  ...   \n",
       "391  #رؤية_١٨_نيسان_٢٠٢١\\n\\nصدور مطاعيم صينيه للاطف...  2021-04-21 14:39:47   \n",
       "392  @YZaatreh كان يصحيه من النوم و يقوله بدنا مطاع...  2021-04-21 11:06:32   \n",
       "393  الصحة : 60 الف مسجل على منصة مطاعيم كورونا خلا...  2021-04-20 20:11:42   \n",
       "394  مادام الامانة عندها فائض مادي \\nكان اتبرعت  وج...  2021-04-17 08:36:31   \n",
       "395  كوبا المحاصرة تعادل عُشْرَ مصر مساحةًوسكاناً ت...  2021-04-17 03:40:57   \n",
       "\n",
       "     geo  coordinates                                              place lang  \\\n",
       "0    NaN          NaN  Place(_api=<tweepy.api.API object at 0x000001C...   ar   \n",
       "1    NaN          NaN                                                NaN   ar   \n",
       "2    NaN          NaN                                                NaN   ar   \n",
       "3    NaN          NaN                                                NaN   ar   \n",
       "4    NaN          NaN                                                NaN   ar   \n",
       "..   ...          ...                                                ...  ...   \n",
       "391  NaN          NaN                                                NaN   ar   \n",
       "392  NaN          NaN                                                NaN   ar   \n",
       "393  NaN          NaN                                                NaN   ar   \n",
       "394  NaN          NaN  Place(_api=<tweepy.api.API object at 0x000001C...   ar   \n",
       "395  NaN          NaN  Place(_api=<tweepy.api.API object at 0x000001C...   ar   \n",
       "\n",
       "                                              entities  \n",
       "0    {'hashtags': [], 'symbols': [], 'user_mentions...  \n",
       "1    {'hashtags': [], 'symbols': [], 'user_mentions...  \n",
       "2    {'hashtags': [], 'symbols': [], 'user_mentions...  \n",
       "3    {'hashtags': [], 'symbols': [], 'user_mentions...  \n",
       "4    {'hashtags': [], 'symbols': [], 'user_mentions...  \n",
       "..                                                 ...  \n",
       "391  {'hashtags': [{'text': 'رؤية_١٨_نيسان_٢٠٢١', '...  \n",
       "392  {'hashtags': [], 'symbols': [], 'user_mentions...  \n",
       "393  {'hashtags': [{'text': 'الوكيل_الاخباري', 'ind...  \n",
       "394  {'hashtags': [], 'symbols': [], 'user_mentions...  \n",
       "395  {'hashtags': [], 'symbols': [], 'user_mentions...  \n",
       "\n",
       "[396 rows x 7 columns]"
      ]
     },
     "execution_count": 46,
     "metadata": {},
     "output_type": "execute_result"
    }
   ],
   "source": [
    "pd.read_csv('Data\\Tweepy\\All_data23_4.csv' , index_col=0)"
   ]
  },
  {
   "cell_type": "markdown",
   "metadata": {},
   "source": [
    "__________________________________"
   ]
  },
  {
   "cell_type": "markdown",
   "metadata": {},
   "source": [
    "# Search for the date(1/5):"
   ]
  },
  {
   "cell_type": "code",
   "execution_count": 10,
   "metadata": {},
   "outputs": [],
   "source": [
    "posts = api.search(q=qr[1], geocode = '31.958090,35.945810,100km',lang = 'ar', count = 100, until='2021-05-01')"
   ]
  },
  {
   "cell_type": "code",
   "execution_count": 11,
   "metadata": {},
   "outputs": [],
   "source": [
    "posts1 = api.search(q=qr[2], geocode = '31.958090,35.945810,100km',lang = 'ar', count = 100, until='2021-05-01')"
   ]
  },
  {
   "cell_type": "code",
   "execution_count": 12,
   "metadata": {},
   "outputs": [],
   "source": [
    "posts2 = api.search(q=qr[3], geocode = '31.958090,35.945810,100km',lang = 'ar', count = 100, until='2021-05-01')"
   ]
  },
  {
   "cell_type": "code",
   "execution_count": 13,
   "metadata": {},
   "outputs": [],
   "source": [
    "posts3 = api.search(q=qr[4], geocode = '31.958090,35.945810,100km',lang = 'ar', count = 100, until='2021-05-01')"
   ]
  },
  {
   "cell_type": "code",
   "execution_count": 14,
   "metadata": {},
   "outputs": [],
   "source": [
    "posts4 = api.search(q=qr[5], geocode = '31.958090,35.945810,100km',lang = 'ar', count = 100, until='2021-05-01')"
   ]
  },
  {
   "cell_type": "code",
   "execution_count": 15,
   "metadata": {},
   "outputs": [],
   "source": [
    "posts5 = api.search(q=qr[6], geocode = '31.958090,35.945810,100km',lang = 'ar', count = 100, until='2021-05-01')"
   ]
  },
  {
   "cell_type": "code",
   "execution_count": 16,
   "metadata": {},
   "outputs": [],
   "source": [
    "df1 = DataFrame(posts , 'Data\\Tweepy\\data0_1_5.csv')\n",
    "df2 = DataFrame(posts1 , 'Data\\Tweepy\\data1_1_5.csv')\n",
    "df3 = DataFrame(posts2 , 'Data\\Tweepy\\data2_1_5.csv')\n",
    "df4 = DataFrame(posts3 , 'Data\\Tweepy\\data3_1_5.csv')\n",
    "df5 = DataFrame(posts4 , 'Data\\Tweepy\\data4_1_5.csv')\n",
    "df6 = DataFrame(posts5 , 'Data\\Tweepy\\data5_1_5.csv')"
   ]
  },
  {
   "cell_type": "code",
   "execution_count": 17,
   "metadata": {},
   "outputs": [],
   "source": [
    "result = pd.concat([df1,df2,df3,df4,df5,df6]).reset_index(drop=True)"
   ]
  },
  {
   "cell_type": "code",
   "execution_count": 18,
   "metadata": {},
   "outputs": [],
   "source": [
    "result.to_csv('Data\\Tweepy\\All_data1_5.csv' , encoding='utf-8')"
   ]
  },
  {
   "cell_type": "code",
   "execution_count": 19,
   "metadata": {},
   "outputs": [
    {
     "data": {
      "text/html": [
       "<div>\n",
       "<style scoped>\n",
       "    .dataframe tbody tr th:only-of-type {\n",
       "        vertical-align: middle;\n",
       "    }\n",
       "\n",
       "    .dataframe tbody tr th {\n",
       "        vertical-align: top;\n",
       "    }\n",
       "\n",
       "    .dataframe thead th {\n",
       "        text-align: right;\n",
       "    }\n",
       "</style>\n",
       "<table border=\"1\" class=\"dataframe\">\n",
       "  <thead>\n",
       "    <tr style=\"text-align: right;\">\n",
       "      <th></th>\n",
       "      <th>Tweets</th>\n",
       "      <th>created_at</th>\n",
       "      <th>geo</th>\n",
       "      <th>coordinates</th>\n",
       "      <th>place</th>\n",
       "      <th>lang</th>\n",
       "      <th>entities</th>\n",
       "    </tr>\n",
       "  </thead>\n",
       "  <tbody>\n",
       "    <tr>\n",
       "      <th>0</th>\n",
       "      <td>RT @izaatreh: حتى لو كل الشعب اخذ اللقاح يا ري...</td>\n",
       "      <td>2021-04-30 23:58:01</td>\n",
       "      <td>NaN</td>\n",
       "      <td>NaN</td>\n",
       "      <td>NaN</td>\n",
       "      <td>ar</td>\n",
       "      <td>{'hashtags': [], 'symbols': [], 'user_mentions...</td>\n",
       "    </tr>\n",
       "    <tr>\n",
       "      <th>1</th>\n",
       "      <td>RT @izaatreh: حتى لو كل الشعب اخذ اللقاح يا ري...</td>\n",
       "      <td>2021-04-30 23:57:49</td>\n",
       "      <td>NaN</td>\n",
       "      <td>NaN</td>\n",
       "      <td>NaN</td>\n",
       "      <td>ar</td>\n",
       "      <td>{'hashtags': [], 'symbols': [], 'user_mentions...</td>\n",
       "    </tr>\n",
       "    <tr>\n",
       "      <th>2</th>\n",
       "      <td>RT @izaatreh: حتى لو كل الشعب اخذ اللقاح يا ري...</td>\n",
       "      <td>2021-04-30 23:56:52</td>\n",
       "      <td>NaN</td>\n",
       "      <td>NaN</td>\n",
       "      <td>NaN</td>\n",
       "      <td>ar</td>\n",
       "      <td>{'hashtags': [], 'symbols': [], 'user_mentions...</td>\n",
       "    </tr>\n",
       "    <tr>\n",
       "      <th>3</th>\n",
       "      <td>RT @izaatreh: حتى لو كل الشعب اخذ اللقاح يا ري...</td>\n",
       "      <td>2021-04-30 23:55:26</td>\n",
       "      <td>NaN</td>\n",
       "      <td>NaN</td>\n",
       "      <td>NaN</td>\n",
       "      <td>ar</td>\n",
       "      <td>{'hashtags': [], 'symbols': [], 'user_mentions...</td>\n",
       "    </tr>\n",
       "    <tr>\n",
       "      <th>4</th>\n",
       "      <td>RT @izaatreh: حتى لو كل الشعب اخذ اللقاح يا ري...</td>\n",
       "      <td>2021-04-30 23:55:17</td>\n",
       "      <td>NaN</td>\n",
       "      <td>NaN</td>\n",
       "      <td>NaN</td>\n",
       "      <td>ar</td>\n",
       "      <td>{'hashtags': [], 'symbols': [], 'user_mentions...</td>\n",
       "    </tr>\n",
       "    <tr>\n",
       "      <th>...</th>\n",
       "      <td>...</td>\n",
       "      <td>...</td>\n",
       "      <td>...</td>\n",
       "      <td>...</td>\n",
       "      <td>...</td>\n",
       "      <td>...</td>\n",
       "      <td>...</td>\n",
       "    </tr>\n",
       "    <tr>\n",
       "      <th>471</th>\n",
       "      <td>RT @jor_noob: لا مهو مستحيل بني ادم عاقل يحكي ...</td>\n",
       "      <td>2021-04-26 01:31:00</td>\n",
       "      <td>NaN</td>\n",
       "      <td>NaN</td>\n",
       "      <td>NaN</td>\n",
       "      <td>ar</td>\n",
       "      <td>{'hashtags': [], 'symbols': [], 'user_mentions...</td>\n",
       "    </tr>\n",
       "    <tr>\n",
       "      <th>472</th>\n",
       "      <td>لا مهو مستحيل بني ادم عاقل يحكي كلام هيك،اسرائ...</td>\n",
       "      <td>2021-04-26 01:24:27</td>\n",
       "      <td>NaN</td>\n",
       "      <td>NaN</td>\n",
       "      <td>NaN</td>\n",
       "      <td>ar</td>\n",
       "      <td>{'hashtags': [], 'symbols': [], 'user_mentions...</td>\n",
       "    </tr>\n",
       "    <tr>\n",
       "      <th>473</th>\n",
       "      <td>الحلول واضح ومش صعب:\\n\\n1- عودة الحياة لطبيعته...</td>\n",
       "      <td>2021-04-25 18:13:57</td>\n",
       "      <td>NaN</td>\n",
       "      <td>NaN</td>\n",
       "      <td>NaN</td>\n",
       "      <td>ar</td>\n",
       "      <td>{'hashtags': [], 'symbols': [], 'user_mentions...</td>\n",
       "    </tr>\n",
       "    <tr>\n",
       "      <th>474</th>\n",
       "      <td>RT @AdwaanM: حكينالكم الجماعة بستنوا الدول وال...</td>\n",
       "      <td>2021-04-25 17:47:06</td>\n",
       "      <td>NaN</td>\n",
       "      <td>NaN</td>\n",
       "      <td>NaN</td>\n",
       "      <td>ar</td>\n",
       "      <td>{'hashtags': [], 'symbols': [], 'user_mentions...</td>\n",
       "    </tr>\n",
       "    <tr>\n",
       "      <th>475</th>\n",
       "      <td>حكينالكم الجماعة بستنوا الدول والمنظمات تشحدهم...</td>\n",
       "      <td>2021-04-25 17:43:46</td>\n",
       "      <td>NaN</td>\n",
       "      <td>NaN</td>\n",
       "      <td>NaN</td>\n",
       "      <td>ar</td>\n",
       "      <td>{'hashtags': [], 'symbols': [], 'user_mentions...</td>\n",
       "    </tr>\n",
       "  </tbody>\n",
       "</table>\n",
       "<p>476 rows × 7 columns</p>\n",
       "</div>"
      ],
      "text/plain": [
       "                                                Tweets           created_at  \\\n",
       "0    RT @izaatreh: حتى لو كل الشعب اخذ اللقاح يا ري...  2021-04-30 23:58:01   \n",
       "1    RT @izaatreh: حتى لو كل الشعب اخذ اللقاح يا ري...  2021-04-30 23:57:49   \n",
       "2    RT @izaatreh: حتى لو كل الشعب اخذ اللقاح يا ري...  2021-04-30 23:56:52   \n",
       "3    RT @izaatreh: حتى لو كل الشعب اخذ اللقاح يا ري...  2021-04-30 23:55:26   \n",
       "4    RT @izaatreh: حتى لو كل الشعب اخذ اللقاح يا ري...  2021-04-30 23:55:17   \n",
       "..                                                 ...                  ...   \n",
       "471  RT @jor_noob: لا مهو مستحيل بني ادم عاقل يحكي ...  2021-04-26 01:31:00   \n",
       "472  لا مهو مستحيل بني ادم عاقل يحكي كلام هيك،اسرائ...  2021-04-26 01:24:27   \n",
       "473  الحلول واضح ومش صعب:\\n\\n1- عودة الحياة لطبيعته...  2021-04-25 18:13:57   \n",
       "474  RT @AdwaanM: حكينالكم الجماعة بستنوا الدول وال...  2021-04-25 17:47:06   \n",
       "475  حكينالكم الجماعة بستنوا الدول والمنظمات تشحدهم...  2021-04-25 17:43:46   \n",
       "\n",
       "     geo  coordinates place lang  \\\n",
       "0    NaN          NaN   NaN   ar   \n",
       "1    NaN          NaN   NaN   ar   \n",
       "2    NaN          NaN   NaN   ar   \n",
       "3    NaN          NaN   NaN   ar   \n",
       "4    NaN          NaN   NaN   ar   \n",
       "..   ...          ...   ...  ...   \n",
       "471  NaN          NaN   NaN   ar   \n",
       "472  NaN          NaN   NaN   ar   \n",
       "473  NaN          NaN   NaN   ar   \n",
       "474  NaN          NaN   NaN   ar   \n",
       "475  NaN          NaN   NaN   ar   \n",
       "\n",
       "                                              entities  \n",
       "0    {'hashtags': [], 'symbols': [], 'user_mentions...  \n",
       "1    {'hashtags': [], 'symbols': [], 'user_mentions...  \n",
       "2    {'hashtags': [], 'symbols': [], 'user_mentions...  \n",
       "3    {'hashtags': [], 'symbols': [], 'user_mentions...  \n",
       "4    {'hashtags': [], 'symbols': [], 'user_mentions...  \n",
       "..                                                 ...  \n",
       "471  {'hashtags': [], 'symbols': [], 'user_mentions...  \n",
       "472  {'hashtags': [], 'symbols': [], 'user_mentions...  \n",
       "473  {'hashtags': [], 'symbols': [], 'user_mentions...  \n",
       "474  {'hashtags': [], 'symbols': [], 'user_mentions...  \n",
       "475  {'hashtags': [], 'symbols': [], 'user_mentions...  \n",
       "\n",
       "[476 rows x 7 columns]"
      ]
     },
     "execution_count": 19,
     "metadata": {},
     "output_type": "execute_result"
    }
   ],
   "source": [
    "pd.read_csv('Data\\Tweepy\\All_data1_5.csv' , index_col=0)"
   ]
  },
  {
   "cell_type": "markdown",
   "metadata": {},
   "source": [
    "# Search for the date(7/5):"
   ]
  },
  {
   "cell_type": "code",
   "execution_count": 14,
   "metadata": {},
   "outputs": [],
   "source": [
    "posts = api.search(q=qr[1], geocode = '31.958090,35.945810,100km',lang = 'ar', count = 100, until='2021-05-07')"
   ]
  },
  {
   "cell_type": "code",
   "execution_count": 15,
   "metadata": {},
   "outputs": [],
   "source": [
    "posts1 = api.search(q=qr[2], geocode = '31.958090,35.945810,100km',lang = 'ar', count = 100, until='2021-05-07')"
   ]
  },
  {
   "cell_type": "code",
   "execution_count": 16,
   "metadata": {},
   "outputs": [],
   "source": [
    "posts2 = api.search(q=qr[3], geocode = '31.958090,35.945810,100km',lang = 'ar', count = 100, until='2021-05-07')"
   ]
  },
  {
   "cell_type": "code",
   "execution_count": 17,
   "metadata": {},
   "outputs": [],
   "source": [
    "posts3 = api.search(q=qr[4], geocode = '31.958090,35.945810,100km',lang = 'ar', count = 100, until='2021-05-07')"
   ]
  },
  {
   "cell_type": "code",
   "execution_count": 18,
   "metadata": {},
   "outputs": [],
   "source": [
    "posts4 = api.search(q=qr[5], geocode = '31.958090,35.945810,100km',lang = 'ar', count = 100, until='2021-05-07')"
   ]
  },
  {
   "cell_type": "code",
   "execution_count": 19,
   "metadata": {},
   "outputs": [],
   "source": [
    "posts5 = api.search(q=qr[6], geocode = '31.958090,35.945810,100km',lang = 'ar', count = 100, until='2021-05-07')"
   ]
  },
  {
   "cell_type": "code",
   "execution_count": 20,
   "metadata": {},
   "outputs": [],
   "source": [
    "df1 = DataFrame(posts , 'Data\\Tweepy\\data0_7_5.csv')\n",
    "df2 = DataFrame(posts1 , 'Data\\Tweepy\\data1_7_5.csv')\n",
    "df3 = DataFrame(posts2 , 'Data\\Tweepy\\data2_7_5.csv')\n",
    "df4 = DataFrame(posts3 , 'Data\\Tweepy\\data3_7_5.csv')\n",
    "df5 = DataFrame(posts4 , 'Data\\Tweepy\\data4_7_5.csv')\n",
    "df6 = DataFrame(posts5 , 'Data\\Tweepy\\data5_7_5.csv')"
   ]
  },
  {
   "cell_type": "code",
   "execution_count": 21,
   "metadata": {},
   "outputs": [],
   "source": [
    "result = pd.concat([df1,df2,df3,df4,df5,df6]).reset_index(drop=True)"
   ]
  },
  {
   "cell_type": "code",
   "execution_count": 22,
   "metadata": {},
   "outputs": [],
   "source": [
    "result.to_csv('Data\\Tweepy\\All_data7_5.csv' , encoding='utf-8')"
   ]
  },
  {
   "cell_type": "markdown",
   "metadata": {},
   "source": [
    "# Concatanate the tweepy tabels :"
   ]
  },
  {
   "cell_type": "code",
   "execution_count": 10,
   "metadata": {},
   "outputs": [],
   "source": [
    "df1 = pd.read_csv('Data\\Tweepy\\All_data1_5.csv' , index_col=0)\n",
    "df2 = pd.read_csv('Data\\Tweepy\\All_data23_4.csv' , index_col=0)\n",
    "df3 = pd.read_csv('Data\\Tweepy\\All_data17_4.csv' , index_col=0)\n",
    "df4 = pd.read_csv('Data\\Tweepy\\All_data_tweep.csv' , index_col=0)\n",
    "df5 = pd.read_csv('Data\\Tweepy\\All_data7_5.csv' , index_col=0)"
   ]
  },
  {
   "cell_type": "code",
   "execution_count": 11,
   "metadata": {},
   "outputs": [],
   "source": [
    "result = pd.concat([df1,df2,df3,df4,df5]).reset_index(drop=True)"
   ]
  },
  {
   "cell_type": "code",
   "execution_count": 12,
   "metadata": {},
   "outputs": [],
   "source": [
    "result.to_csv('Data\\Tweepy\\Tweepy_data.csv' ,index=False, encoding='utf-8')"
   ]
  },
  {
   "cell_type": "code",
   "execution_count": 13,
   "metadata": {},
   "outputs": [
    {
     "name": "stdout",
     "output_type": "stream",
     "text": [
      "<class 'pandas.core.frame.DataFrame'>\n",
      "RangeIndex: 2232 entries, 0 to 2231\n",
      "Data columns (total 7 columns):\n",
      " #   Column       Non-Null Count  Dtype  \n",
      "---  ------       --------------  -----  \n",
      " 0   Tweets       2232 non-null   object \n",
      " 1   created_at   2232 non-null   object \n",
      " 2   geo          0 non-null      float64\n",
      " 3   coordinates  0 non-null      float64\n",
      " 4   place        76 non-null     object \n",
      " 5   lang         2232 non-null   object \n",
      " 6   entities     2232 non-null   object \n",
      "dtypes: float64(2), object(5)\n",
      "memory usage: 122.2+ KB\n"
     ]
    }
   ],
   "source": [
    "result.info()"
   ]
  },
  {
   "cell_type": "code",
   "execution_count": null,
   "metadata": {},
   "outputs": [],
   "source": []
  }
 ],
 "metadata": {
  "colab": {
   "name": "Untitled7.ipynb",
   "provenance": []
  },
  "kernelspec": {
   "display_name": "Python 3",
   "language": "python",
   "name": "python3"
  },
  "language_info": {
   "codemirror_mode": {
    "name": "ipython",
    "version": 3
   },
   "file_extension": ".py",
   "mimetype": "text/x-python",
   "name": "python",
   "nbconvert_exporter": "python",
   "pygments_lexer": "ipython3",
   "version": "3.8.5"
  }
 },
 "nbformat": 4,
 "nbformat_minor": 1
}
