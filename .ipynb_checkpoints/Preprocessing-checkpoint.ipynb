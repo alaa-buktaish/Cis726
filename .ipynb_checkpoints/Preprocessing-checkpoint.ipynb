{
 "cells": [
  {
   "cell_type": "markdown",
   "metadata": {},
   "source": [
    "## Import The Libraries and Packages\n"
   ]
  },
  {
   "cell_type": "code",
   "execution_count": 1,
   "metadata": {},
   "outputs": [],
   "source": [
    "import pandas as pd\n",
    "import numpy as np\n",
    "import matplotlib.pyplot as plt\n",
    "%matplotlib inline\n",
    "plt.style.use('seaborn-deep')\n",
    "import re\n",
    "from datetime import datetime , date\n",
    "plt.rcParams[\"figure.figsize\"] = (10,6)"
   ]
  },
  {
   "cell_type": "markdown",
   "metadata": {},
   "source": [
    "### Load the data sets"
   ]
  },
  {
   "cell_type": "code",
   "execution_count": 50,
   "metadata": {},
   "outputs": [],
   "source": [
    "df_twint = pd.read_csv('Data\\Twint\\All_data_twint.csv' , index_col=0)\n",
    "df_tweepy = pd.read_csv('Data\\Tweepy\\Tweepy_data.csv' )"
   ]
  },
  {
   "cell_type": "markdown",
   "metadata": {},
   "source": [
    "Data summary"
   ]
  },
  {
   "cell_type": "code",
   "execution_count": 51,
   "metadata": {},
   "outputs": [
    {
     "name": "stdout",
     "output_type": "stream",
     "text": [
      "<class 'pandas.core.frame.DataFrame'>\n",
      "Int64Index: 2911 entries, 0 to 2910\n",
      "Data columns (total 36 columns):\n",
      " #   Column           Non-Null Count  Dtype  \n",
      "---  ------           --------------  -----  \n",
      " 0   id               2911 non-null   object \n",
      " 1   conversation_id  2910 non-null   float64\n",
      " 2   created_at       2910 non-null   object \n",
      " 3   date             2910 non-null   object \n",
      " 4   time             2910 non-null   object \n",
      " 5   timezone         2910 non-null   float64\n",
      " 6   user_id          2910 non-null   float64\n",
      " 7   username         2910 non-null   object \n",
      " 8   name             2910 non-null   object \n",
      " 9   place            1 non-null      object \n",
      " 10  tweet            2910 non-null   object \n",
      " 11  language         2910 non-null   object \n",
      " 12  mentions         2910 non-null   object \n",
      " 13  urls             2910 non-null   object \n",
      " 14  photos           2910 non-null   object \n",
      " 15  replies_count    2910 non-null   float64\n",
      " 16  retweets_count   2910 non-null   float64\n",
      " 17  likes_count      2910 non-null   float64\n",
      " 18  hashtags         2910 non-null   object \n",
      " 19  cashtags         2910 non-null   object \n",
      " 20  link             2910 non-null   object \n",
      " 21  retweet          2910 non-null   object \n",
      " 22  quote_url        92 non-null     object \n",
      " 23  video            2910 non-null   float64\n",
      " 24  thumbnail        511 non-null    object \n",
      " 25  near             2910 non-null   object \n",
      " 26  geo              0 non-null      float64\n",
      " 27  source           0 non-null      float64\n",
      " 28  user_rt_id       0 non-null      float64\n",
      " 29  user_rt          0 non-null      float64\n",
      " 30  retweet_id       0 non-null      float64\n",
      " 31  reply_to         2910 non-null   object \n",
      " 32  retweet_date     0 non-null      float64\n",
      " 33  translate        0 non-null      float64\n",
      " 34  trans_src        0 non-null      float64\n",
      " 35  trans_dest       0 non-null      float64\n",
      "dtypes: float64(16), object(20)\n",
      "memory usage: 841.5+ KB\n"
     ]
    }
   ],
   "source": [
    "df_twint.info()"
   ]
  },
  {
   "cell_type": "code",
   "execution_count": 52,
   "metadata": {},
   "outputs": [
    {
     "name": "stdout",
     "output_type": "stream",
     "text": [
      "<class 'pandas.core.frame.DataFrame'>\n",
      "RangeIndex: 2232 entries, 0 to 2231\n",
      "Data columns (total 7 columns):\n",
      " #   Column       Non-Null Count  Dtype  \n",
      "---  ------       --------------  -----  \n",
      " 0   Tweets       2232 non-null   object \n",
      " 1   created_at   2232 non-null   object \n",
      " 2   geo          0 non-null      float64\n",
      " 3   coordinates  0 non-null      float64\n",
      " 4   place        76 non-null     object \n",
      " 5   lang         2232 non-null   object \n",
      " 6   entities     2232 non-null   object \n",
      "dtypes: float64(2), object(5)\n",
      "memory usage: 122.2+ KB\n"
     ]
    }
   ],
   "source": [
    "df_tweepy.info()"
   ]
  },
  {
   "cell_type": "code",
   "execution_count": 53,
   "metadata": {},
   "outputs": [],
   "source": [
    "#Drop unnecessary columns\n",
    "df_twint = df_twint[['tweet' ,'created_at' ]]\n",
    "df_tweepy = df_tweepy[['Tweets' , 'created_at']]\n",
    "\n",
    "#Rename df_twint columns \n",
    "df_twint.rename(columns={'tweet': 'Tweets'} , inplace=True)\n"
   ]
  },
  {
   "cell_type": "markdown",
   "metadata": {},
   "source": [
    "Concatanate the tabels :"
   ]
  },
  {
   "cell_type": "code",
   "execution_count": 54,
   "metadata": {},
   "outputs": [
    {
     "name": "stdout",
     "output_type": "stream",
     "text": [
      "<class 'pandas.core.frame.DataFrame'>\n",
      "RangeIndex: 5143 entries, 0 to 5142\n",
      "Data columns (total 2 columns):\n",
      " #   Column      Non-Null Count  Dtype \n",
      "---  ------      --------------  ----- \n",
      " 0   Tweets      5142 non-null   object\n",
      " 1   created_at  5142 non-null   object\n",
      "dtypes: object(2)\n",
      "memory usage: 80.5+ KB\n"
     ]
    }
   ],
   "source": [
    "df =pd.concat([df_tweepy , df_twint], ignore_index=True)\n",
    "df.info()"
   ]
  },
  {
   "cell_type": "markdown",
   "metadata": {},
   "source": [
    "'created_at' must be datetime so we will change it"
   ]
  },
  {
   "cell_type": "code",
   "execution_count": 55,
   "metadata": {},
   "outputs": [
    {
     "data": {
      "text/plain": [
       "0      2021-04-30 23:58:01\n",
       "1      2021-04-30 23:57:49\n",
       "2      2021-04-30 23:56:52\n",
       "3      2021-04-30 23:55:26\n",
       "4      2021-04-30 23:55:17\n",
       "               ...        \n",
       "5138   2021-03-16 10:39:54\n",
       "5139   2021-03-14 04:34:10\n",
       "5140   2021-03-10 21:50:35\n",
       "5141   2021-03-05 17:16:51\n",
       "5142   2021-03-05 17:15:21\n",
       "Name: created_at, Length: 5143, dtype: datetime64[ns]"
      ]
     },
     "execution_count": 55,
     "metadata": {},
     "output_type": "execute_result"
    }
   ],
   "source": [
    "for i in range(0, len(df)):\n",
    "    df['created_at'][i]= re.sub(r\"[a-z]\", \"\", str(df['created_at'][i]), flags=re.I).strip()\n",
    "df['created_at'] = pd.to_datetime(df['created_at'])\n",
    "df['created_at']"
   ]
  },
  {
   "cell_type": "markdown",
   "metadata": {},
   "source": [
    "The overall distribution of length for each tweet"
   ]
  },
  {
   "cell_type": "code",
   "execution_count": 56,
   "metadata": {},
   "outputs": [],
   "source": [
    "pre_clean_len = [len(str(t)) for t in df.Tweets]"
   ]
  },
  {
   "cell_type": "code",
   "execution_count": 57,
   "metadata": {},
   "outputs": [
    {
     "data": {
      "image/png": "[encoded data removed]",
      "text/plain": [
       "<Figure size 360x360 with 1 Axes>"
      ]
     },
     "metadata": {
      "needs_background": "light"
     },
     "output_type": "display_data"
    }
   ],
   "source": [
    "fig, ax = plt.subplots(figsize=(5, 5))\n",
    "plt.boxplot(pre_clean_len)\n",
    "plt.title(\"Preclean Tweets Length\")\n",
    "plt.savefig('Figures\\Boxplot.png')\n",
    "plt.show()"
   ]
  },
  {
   "cell_type": "markdown",
   "metadata": {},
   "source": [
    "This looks a bit strange, since the twitter's character limit is 140. But from the above box plot, some of the tweets are way more than 140 chracters long."
   ]
  },
  {
   "cell_type": "markdown",
   "metadata": {},
   "source": [
    "## Clean the data"
   ]
  },
  {
   "cell_type": "code",
   "execution_count": 58,
   "metadata": {},
   "outputs": [],
   "source": [
    "# //////////////////Normalization///////////////\n",
    "arabic_diacritics = re.compile(\"\"\"\n",
    "                             ّ    | \n",
    "                             َ    | \n",
    "                             ً    | \n",
    "                             ُ    | \n",
    "                             ٌ    | \n",
    "                             ِ    | \n",
    "                             ٍ    | \n",
    "                             ْ    | \n",
    "                             ـ     \n",
    "                         \"\"\", re.VERBOSE)\n",
    "\n",
    "def remove_emoji(text):\n",
    "    regrex_pattern = re.compile(pattern = \"[\"\n",
    "        u\"\\U0001F600-\\U0001F64F\"  # emoticons\n",
    "        u\"\\U0001F300-\\U0001F5FF\"  # symbols & pictographs\n",
    "        u\"\\U0001F680-\\U0001F6FF\"  # transport & map symbols\n",
    "        u\"\\U0001F1E0-\\U0001F1FF\"  # flags (iOS)\n",
    "                           \"]+\", flags = re.UNICODE)\n",
    "    return regrex_pattern.sub(r'',text)\n",
    "\n",
    "def preprocess(new_text):\n",
    "        new_text = re.sub('<.*?>', ' ', new_text)   # remove HTML tags\n",
    "        new_text = re.sub(r'[^\\w\\s]', ' ', new_text) # remove punc.\n",
    "        new_text = re.sub(r'\\d+',' ',new_text)# remove numbers\n",
    "        new_text = re.sub(\"[إأآا]\", \"ا\", new_text)\n",
    "        new_text = re.sub(arabic_diacritics, '', new_text)\n",
    "        new_text = re.sub(r'(@.*?)[\\s]', ' ', new_text) # Remove '@name'\n",
    "        new_text = re.sub(r'[a-zA-Z]', ' ', new_text)\n",
    "        new_text = re.sub('_',' ',new_text) \n",
    "        new_text = remove_emoji(new_text)\n",
    "        new_text = re.sub(r'\\s+', ' ', new_text).strip() # Remove trailing whitespace\n",
    "        return new_text\n",
    "\n",
    "\n",
    "df['Tweets']= df['Tweets'].apply(lambda x: preprocess(str(x)))"
   ]
  },
  {
   "cell_type": "code",
   "execution_count": 59,
   "metadata": {},
   "outputs": [
    {
     "name": "stdout",
     "output_type": "stream",
     "text": [
      "<class 'pandas.core.frame.DataFrame'>\n",
      "RangeIndex: 2870 entries, 0 to 2869\n",
      "Data columns (total 2 columns):\n",
      " #   Column      Non-Null Count  Dtype         \n",
      "---  ------      --------------  -----         \n",
      " 0   Tweets      2870 non-null   object        \n",
      " 1   created_at  2869 non-null   datetime64[ns]\n",
      "dtypes: datetime64[ns](1), object(1)\n",
      "memory usage: 45.0+ KB\n"
     ]
    }
   ],
   "source": [
    "#Check there are no duplicate Tweets\n",
    "df.drop_duplicates(subset=['Tweets'] , inplace=True, ignore_index=True)\n",
    "df.info()"
   ]
  },
  {
   "cell_type": "code",
   "execution_count": 60,
   "metadata": {},
   "outputs": [],
   "source": [
    "clean_len = [len(str(t)) for t in df.Tweets]"
   ]
  },
  {
   "cell_type": "code",
   "execution_count": 61,
   "metadata": {},
   "outputs": [
    {
     "data": {
      "image/png": "[encoded data removed]",
      "text/plain": [
       "<Figure size 360x360 with 1 Axes>"
      ]
     },
     "metadata": {
      "needs_background": "light"
     },
     "output_type": "display_data"
    }
   ],
   "source": [
    "fig, ax = plt.subplots(figsize=(5, 5))\n",
    "plt.boxplot(clean_len)\n",
    "plt.title(\"Clean Tweets Length\")\n",
    "plt.savefig('Figures\\Boxplot2.png')\n",
    "plt.show()"
   ]
  },
  {
   "cell_type": "code",
   "execution_count": null,
   "metadata": {},
   "outputs": [],
   "source": []
  },
  {
   "cell_type": "markdown",
   "metadata": {},
   "source": [
    "Now we will look at the distribution of tweets over time"
   ]
  },
  {
   "cell_type": "code",
   "execution_count": 62,
   "metadata": {},
   "outputs": [
    {
     "data": {
      "text/html": [
       "<div>\n",
       "<style scoped>\n",
       "    .dataframe tbody tr th:only-of-type {\n",
       "        vertical-align: middle;\n",
       "    }\n",
       "\n",
       "    .dataframe tbody tr th {\n",
       "        vertical-align: top;\n",
       "    }\n",
       "\n",
       "    .dataframe thead th {\n",
       "        text-align: right;\n",
       "    }\n",
       "</style>\n",
       "<table border=\"1\" class=\"dataframe\">\n",
       "  <thead>\n",
       "    <tr style=\"text-align: right;\">\n",
       "      <th></th>\n",
       "      <th>Tweets</th>\n",
       "    </tr>\n",
       "    <tr>\n",
       "      <th>created_at</th>\n",
       "      <th></th>\n",
       "    </tr>\n",
       "  </thead>\n",
       "  <tbody>\n",
       "    <tr>\n",
       "      <th>2020-01-31</th>\n",
       "      <td>109</td>\n",
       "    </tr>\n",
       "    <tr>\n",
       "      <th>2020-02-29</th>\n",
       "      <td>81</td>\n",
       "    </tr>\n",
       "    <tr>\n",
       "      <th>2020-03-31</th>\n",
       "      <td>89</td>\n",
       "    </tr>\n",
       "    <tr>\n",
       "      <th>2020-04-30</th>\n",
       "      <td>9</td>\n",
       "    </tr>\n",
       "    <tr>\n",
       "      <th>2020-05-31</th>\n",
       "      <td>8</td>\n",
       "    </tr>\n",
       "    <tr>\n",
       "      <th>2020-06-30</th>\n",
       "      <td>0</td>\n",
       "    </tr>\n",
       "    <tr>\n",
       "      <th>2020-07-31</th>\n",
       "      <td>0</td>\n",
       "    </tr>\n",
       "    <tr>\n",
       "      <th>2020-08-31</th>\n",
       "      <td>0</td>\n",
       "    </tr>\n",
       "    <tr>\n",
       "      <th>2020-09-30</th>\n",
       "      <td>1</td>\n",
       "    </tr>\n",
       "    <tr>\n",
       "      <th>2020-10-31</th>\n",
       "      <td>2</td>\n",
       "    </tr>\n",
       "    <tr>\n",
       "      <th>2020-11-30</th>\n",
       "      <td>6</td>\n",
       "    </tr>\n",
       "    <tr>\n",
       "      <th>2020-12-31</th>\n",
       "      <td>9</td>\n",
       "    </tr>\n",
       "    <tr>\n",
       "      <th>2021-01-31</th>\n",
       "      <td>19</td>\n",
       "    </tr>\n",
       "    <tr>\n",
       "      <th>2021-02-28</th>\n",
       "      <td>2</td>\n",
       "    </tr>\n",
       "    <tr>\n",
       "      <th>2021-03-31</th>\n",
       "      <td>30</td>\n",
       "    </tr>\n",
       "    <tr>\n",
       "      <th>2021-04-30</th>\n",
       "      <td>2161</td>\n",
       "    </tr>\n",
       "    <tr>\n",
       "      <th>2021-05-31</th>\n",
       "      <td>343</td>\n",
       "    </tr>\n",
       "  </tbody>\n",
       "</table>\n",
       "</div>"
      ],
      "text/plain": [
       "            Tweets\n",
       "created_at        \n",
       "2020-01-31     109\n",
       "2020-02-29      81\n",
       "2020-03-31      89\n",
       "2020-04-30       9\n",
       "2020-05-31       8\n",
       "2020-06-30       0\n",
       "2020-07-31       0\n",
       "2020-08-31       0\n",
       "2020-09-30       1\n",
       "2020-10-31       2\n",
       "2020-11-30       6\n",
       "2020-12-31       9\n",
       "2021-01-31      19\n",
       "2021-02-28       2\n",
       "2021-03-31      30\n",
       "2021-04-30    2161\n",
       "2021-05-31     343"
      ]
     },
     "execution_count": 62,
     "metadata": {},
     "output_type": "execute_result"
    }
   ],
   "source": [
    "grouped = df.set_index('created_at').groupby(pd.Grouper(freq='M')).count()\n",
    "grouped"
   ]
  },
  {
   "cell_type": "code",
   "execution_count": 63,
   "metadata": {},
   "outputs": [],
   "source": [
    "grouped.index=grouped.index.to_series().apply(lambda x : x.strftime(\"%Y/%m\"))"
   ]
  },
  {
   "cell_type": "code",
   "execution_count": 64,
   "metadata": {},
   "outputs": [
    {
     "data": {
      "image/png": "[encoded data removed]",
      "text/plain": [
       "<Figure size 720x432 with 1 Axes>"
      ]
     },
     "metadata": {
      "needs_background": "light"
     },
     "output_type": "display_data"
    }
   ],
   "source": [
    "grouped['Tweets'].plot(kind='barh')\n",
    "plt.savefig('Figures\\Barplot.png')\n",
    "plt.show()"
   ]
  },
  {
   "cell_type": "markdown",
   "metadata": {},
   "source": [
    "Saving data as csv"
   ]
  },
  {
   "cell_type": "code",
   "execution_count": 65,
   "metadata": {},
   "outputs": [
    {
     "data": {
      "text/html": [
       "<div>\n",
       "<style scoped>\n",
       "    .dataframe tbody tr th:only-of-type {\n",
       "        vertical-align: middle;\n",
       "    }\n",
       "\n",
       "    .dataframe tbody tr th {\n",
       "        vertical-align: top;\n",
       "    }\n",
       "\n",
       "    .dataframe thead th {\n",
       "        text-align: right;\n",
       "    }\n",
       "</style>\n",
       "<table border=\"1\" class=\"dataframe\">\n",
       "  <thead>\n",
       "    <tr style=\"text-align: right;\">\n",
       "      <th></th>\n",
       "      <th>Tweets</th>\n",
       "      <th>created_at</th>\n",
       "    </tr>\n",
       "  </thead>\n",
       "  <tbody>\n",
       "    <tr>\n",
       "      <th>0</th>\n",
       "      <td>حتى لو كل الشعب اخذ اللقاح يا ريت ثقافة البوس ...</td>\n",
       "      <td>2021-04-30 23:58:01</td>\n",
       "    </tr>\n",
       "    <tr>\n",
       "      <th>1</th>\n",
       "      <td>هل في خدمة تلقيح لكبار السن في المنزل اذا فيه ...</td>\n",
       "      <td>2021-04-30 22:07:53</td>\n",
       "    </tr>\n",
       "    <tr>\n",
       "      <th>2</th>\n",
       "      <td>يادي البلاوي الي ورا بعضيها شو نعمل طيب ناخد ا...</td>\n",
       "      <td>2021-04-30 20:21:43</td>\n",
       "    </tr>\n",
       "    <tr>\n",
       "      <th>3</th>\n",
       "      <td>اللي اخد اللقاح هاي الفترة شو نوع اللي اخدتوه</td>\n",
       "      <td>2021-04-30 20:11:42</td>\n",
       "    </tr>\n",
       "    <tr>\n",
       "      <th>4</th>\n",
       "      <td>خبراء اللقاح هو الحل الامثل لعودة التعليم الوج...</td>\n",
       "      <td>2021-04-30 19:04:06</td>\n",
       "    </tr>\n",
       "  </tbody>\n",
       "</table>\n",
       "</div>"
      ],
      "text/plain": [
       "                                              Tweets          created_at\n",
       "0  حتى لو كل الشعب اخذ اللقاح يا ريت ثقافة البوس ... 2021-04-30 23:58:01\n",
       "1  هل في خدمة تلقيح لكبار السن في المنزل اذا فيه ... 2021-04-30 22:07:53\n",
       "2  يادي البلاوي الي ورا بعضيها شو نعمل طيب ناخد ا... 2021-04-30 20:21:43\n",
       "3      اللي اخد اللقاح هاي الفترة شو نوع اللي اخدتوه 2021-04-30 20:11:42\n",
       "4  خبراء اللقاح هو الحل الامثل لعودة التعليم الوج... 2021-04-30 19:04:06"
      ]
     },
     "execution_count": 65,
     "metadata": {},
     "output_type": "execute_result"
    }
   ],
   "source": [
    "df.head()"
   ]
  },
  {
   "cell_type": "code",
   "execution_count": 66,
   "metadata": {},
   "outputs": [],
   "source": [
    "df.to_csv('tweet.csv',index=False, encoding='utf-8')"
   ]
  },
  {
   "cell_type": "code",
   "execution_count": null,
   "metadata": {},
   "outputs": [],
   "source": []
  },
  {
   "cell_type": "code",
   "execution_count": null,
   "metadata": {},
   "outputs": [],
   "source": []
  }
 ],
 "metadata": {
  "kernelspec": {
   "display_name": "Python 3",
   "language": "python",
   "name": "python3"
  },
  "language_info": {
   "codemirror_mode": {
    "name": "ipython",
    "version": 3
   },
   "file_extension": ".py",
   "mimetype": "text/x-python",
   "name": "python",
   "nbconvert_exporter": "python",
   "pygments_lexer": "ipython3",
   "version": "3.8.5"
  }
 },
 "nbformat": 4,
 "nbformat_minor": 4
}
