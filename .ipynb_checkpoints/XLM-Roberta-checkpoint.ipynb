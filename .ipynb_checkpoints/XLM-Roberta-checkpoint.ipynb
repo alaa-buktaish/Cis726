{
 "cells": [
  {
   "cell_type": "markdown",
   "metadata": {},
   "source": [
    "# XLM-Roberta"
   ]
  },
  {
   "cell_type": "markdown",
   "metadata": {},
   "source": [
    "for pridict the sentiment analysis for the tweets we first will use XLM-Roberta (100 languages) model fine-tuned on Arabic 3-class sentiment analysis dataset"
   ]
  },
  {
   "cell_type": "markdown",
   "metadata": {},
   "source": [
    "training data is based on rating of 3 ouot of 5"
   ]
  },
  {
   "cell_type": "code",
   "execution_count": 7,
   "metadata": {},
   "outputs": [],
   "source": [
    "import pandas as pd\n",
    "import numpy as np\n",
    "import matplotlib.pyplot as plt\n",
    "%matplotlib inline\n",
    "plt.style.use('seaborn-deep')\n",
    "import re\n",
    "from datetime import datetime , date\n",
    "plt.rcParams[\"figure.figsize\"] = (10,6)"
   ]
  },
  {
   "cell_type": "code",
   "execution_count": 6,
   "metadata": {},
   "outputs": [],
   "source": [
    "from transformers import pipeline \n",
    "# this will download 2 GB\n",
    "nlp = pipeline(\"sentiment-analysis\", model='akhooli/xlm-r-large-arabic-sent')"
   ]
  },
  {
   "cell_type": "code",
   "execution_count": 3,
   "metadata": {},
   "outputs": [],
   "source": [
    "#from transformers import AutoTokenizer, AutoModelForSequenceClassification\n",
    "  \n",
    "#tokenizer = AutoTokenizer.from_pretrained(\"akhooli/xlm-r-large-arabic-sent\")\n",
    "\n",
    "#nlp = AutoModelForSequenceClassification.from_pretrained(\"akhooli/xlm-r-large-arabic-sent\")"
   ]
  },
  {
   "cell_type": "code",
   "execution_count": 8,
   "metadata": {},
   "outputs": [
    {
     "name": "stdout",
     "output_type": "stream",
     "text": [
      "[{'label': 'LABEL_1', 'score': 0.7496660351753235}]\n",
      "[{'label': 'LABEL_2', 'score': 0.7112250924110413}]\n",
      "[{'label': 'LABEL_0', 'score': 0.5494165420532227}]\n",
      "[{'label': 'LABEL_2', 'score': 0.9656060934066772}]\n",
      "[{'label': 'LABEL_1', 'score': 0.9788309335708618}]\n",
      "[{'label': 'LABEL_2', 'score': 0.9744839072227478}]\n"
     ]
    }
   ],
   "source": [
    "# 0 mixed, 1 negative, 2 positive\n",
    "print(nlp(\"I hate you\")) # En negative\n",
    "print(nlp(\"I love you\")) # En positive\n",
    "print(nlp(\"المنتج جيد جدا ولكنه وصل بحالة غير ممتازة\")) # Ar mixed\n",
    "# Ar positive\n",
    "print(nlp(\"موقع المكان جميل جداً البناء قديم جداً ، يقدم الاكل طازج ولذيذ، معامله وخدمه ممتازه، انصح جداً بزياره المكان ، انا زبون دائم، وايضاً قريب على كنيسه المهد\"))\n",
    "# Ar negative\n",
    "print(nlp(\"ببساطه اسوأ طيران في العالم , الطياره قديمه جدا جدا والطاقم والموظفين عند الوزن سيئين جدااااااااا الى ابعد الحدود + فقدو شنته السفر + تأخير طياره نصيحه من مجرب لا تحجز على الطيران الملكيه اسوأ طيران قد ركبته\"))\n",
    "# Ar and En positive \n",
    "print(nlp(\"كانت الخدمة super!\"))"
   ]
  },
  {
   "cell_type": "code",
   "execution_count": 9,
   "metadata": {},
   "outputs": [],
   "source": [
    "data = pd.read_csv('tweet.csv')"
   ]
  },
  {
   "cell_type": "markdown",
   "metadata": {},
   "source": [
    " Text tokinization"
   ]
  },
  {
   "cell_type": "code",
   "execution_count": 11,
   "metadata": {},
   "outputs": [
    {
     "name": "stderr",
     "output_type": "stream",
     "text": [
      "[nltk_data] Downloading package stopwords to C:\\Users\\Computergy\n",
      "[nltk_data]     World\\AppData\\Roaming\\nltk_data...\n",
      "[nltk_data]   Package stopwords is already up-to-date!\n"
     ]
    }
   ],
   "source": [
    "# Define a list of arabic and english punctiations that we want to get rid of in our text\n",
    "import string\n",
    "import re \n",
    "import nltk\n",
    "from nltk import sent_tokenize,word_tokenize\n",
    "nltk.download(\"stopwords\")\n",
    "\n",
    "punctuations = '''`÷×؛<>_()*&^%][ـ،/:\"؟.,'{}~¦+|!”…“–ـ''' + string.punctuation\n",
    "arb_stopwords = set(nltk.corpus.stopwords.words(\"arabic\"))\n",
    "\n",
    "arabic_diacritics = re.compile(\"\"\"\n",
    "                             ّ    | # Shadda\n",
    "                             َ    | # Fatha\n",
    "                             ً    | # Tanwin Fath\n",
    "                             ُ    | # Damma\n",
    "                             ٌ    | # Tanwin Damm\n",
    "                             ِ    | # Kasra\n",
    "                             ٍ    | # Tanwin Kasr\n",
    "                             ْ    | # Sukun\n",
    "                             ـ     # Tatwil/Kashida\n",
    "                         \"\"\", re.VERBOSE)\n",
    "\n",
    "def preprocess(text):\n",
    "    \n",
    "    '''\n",
    "    text is an arabic string input\n",
    "    \n",
    "    the preprocessed text is returned\n",
    "    '''\n",
    "    text = str(text)\n",
    "    #remove punctuations\n",
    "    translator = str.maketrans('', '', punctuations)\n",
    "    text = text.translate(translator)\n",
    "    \n",
    "    # remove Tashkeel\n",
    "    text = re.sub(arabic_diacritics, '', text)\n",
    "    \n",
    "    #remove longation\n",
    "    text = re.sub(\"ؤ\", \"ء\", text)\n",
    "    text = re.sub(\"ئ\", \"ء\", text)\n",
    "    text = re.sub(\"ة\", \"ه\", text)\n",
    "    text = re.sub(\"گ\", \"ك\", text)\n",
    "    text= re.sub(\"[إأآا]\", \"ا\", text)\n",
    "    \n",
    "    \n",
    "    #remove stop words and unkwon characters\n",
    "    filtered = []\n",
    "    for w in text.split():\n",
    "        w = re.sub(r\"[0-9a-zA-Z]\", \"\", w,flags=re.I)\n",
    "        if w not in arb_stopwords:\n",
    "            filtered.append(w)\n",
    "    text = ' '.join(word for word in filtered)\n",
    "    text = text.strip()\n",
    "    return text\n",
    "  \n",
    "data['Tweets'] = data['Tweets'].apply(preprocess)"
   ]
  },
  {
   "cell_type": "code",
   "execution_count": 23,
   "metadata": {},
   "outputs": [],
   "source": [
    "def Sent (text):\n",
    "    pred = nlp(text)\n",
    "    return pred[0]['label']\n",
    "\n",
    "def score (text):\n",
    "    pred = nlp(text)\n",
    "    return pred[0]['score']"
   ]
  },
  {
   "cell_type": "code",
   "execution_count": null,
   "metadata": {},
   "outputs": [],
   "source": [
    "data['sentiment']=data['Tweets'].apply(Sent)"
   ]
  },
  {
   "cell_type": "code",
   "execution_count": null,
   "metadata": {},
   "outputs": [],
   "source": [
    "data['score']=data['Tweets'].apply(score)"
   ]
  },
  {
   "cell_type": "code",
   "execution_count": null,
   "metadata": {},
   "outputs": [],
   "source": [
    "data['sentiment'].map({'LABEL_1': 'neg', 'LABEL_2': 'pos' , 'LABEL_0': 'mixed'})"
   ]
  },
  {
   "cell_type": "code",
   "execution_count": null,
   "metadata": {},
   "outputs": [],
   "source": [
    "data"
   ]
  },
  {
   "cell_type": "code",
   "execution_count": null,
   "metadata": {},
   "outputs": [],
   "source": [
    "neg_tweets = data.loc[data['sentiment']=='neg' ].sort_values(\"score\",ascending = False ,na_position ='last')['Tweets'].values[:10]\n",
    "for i in range(len( neg_tweets )):\n",
    "    print(i,')' , ' ' ,neg_tweets[i] )"
   ]
  },
  {
   "cell_type": "code",
   "execution_count": null,
   "metadata": {},
   "outputs": [],
   "source": [
    "sent = data.groupby('sentiment').count()\n",
    "sent"
   ]
  },
  {
   "cell_type": "code",
   "execution_count": null,
   "metadata": {},
   "outputs": [],
   "source": [
    "plt.bar(sent.index , sent.Tweets)\n",
    "plt.ylabel('Counts')\n",
    "plt.title('Sentiment Analysis Using XLM-Roberta ')\n",
    "plt.show()"
   ]
  }
 ],
 "metadata": {
  "kernelspec": {
   "display_name": "Python 3",
   "language": "python",
   "name": "python3"
  },
  "language_info": {
   "codemirror_mode": {
    "name": "ipython",
    "version": 3
   },
   "file_extension": ".py",
   "mimetype": "text/x-python",
   "name": "python",
   "nbconvert_exporter": "python",
   "pygments_lexer": "ipython3",
   "version": "3.8.5"
  }
 },
 "nbformat": 4,
 "nbformat_minor": 4
}
