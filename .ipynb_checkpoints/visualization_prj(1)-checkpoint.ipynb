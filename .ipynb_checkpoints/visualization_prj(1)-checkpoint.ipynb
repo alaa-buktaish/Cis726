{
 "cells": [
  {
   "cell_type": "code",
   "execution_count": null,
   "metadata": {
    "colab": {
     "base_uri": "https://localhost:8080/"
    },
    "id": "aZIPGJEnOAOm",
    "outputId": "5fb23b49-3a4a-4d4d-da2f-2a7ed0cbd2ad"
   },
   "outputs": [],
   "source": [
    "!pip install ktrain"
   ]
  },
  {
   "cell_type": "code",
   "execution_count": null,
   "metadata": {
    "id": "xa6kD07RLNwx"
   },
   "outputs": [],
   "source": [
    "import numpy as np\n",
    "import pandas as pd\n",
    "import tensorflow as tf\n",
    "import ktrain\n",
    "from ktrain import text"
   ]
  },
  {
   "cell_type": "code",
   "execution_count": null,
   "metadata": {
    "colab": {
     "base_uri": "https://localhost:8080/"
    },
    "id": "FWaELos1LUbp",
    "outputId": "35c9d065-c579-4a76-c2c3-d842d2197407"
   },
   "outputs": [],
   "source": [
    "url_train_pos = 'train-test/train_Arabic_tweets_negative_20190413.tsv'\n",
    "train_pos = pd.read_csv(url_train_pos, encoding='utf-8', sep='\\t', header=None)\n",
    "\n",
    "url_train_neg = 'train-test/train_Arabic_tweets_positive_20190413.tsv'\n",
    "train_neg = pd.read_csv(url_train_neg, encoding='utf-8', sep='\\t', header=None)\n",
    "\n",
    "\n",
    "data_train = pd.concat([train_pos, train_neg])\n",
    "data_train.columns = ['sentiment', 'tweet']\n",
    "data_train.sample(5)\n",
    "data_train.shape"
   ]
  },
  {
   "cell_type": "code",
   "execution_count": null,
   "metadata": {
    "id": "0BIB6YA_pwjg"
   },
   "outputs": [],
   "source": [
    "data_train = data_train.sample(frac=1)"
   ]
  },
  {
   "cell_type": "code",
   "execution_count": null,
   "metadata": {
    "id": "ewVyR4kRpzsv"
   },
   "outputs": [],
   "source": [
    "data_train = data_train.iloc[:25000,:]"
   ]
  },
  {
   "cell_type": "code",
   "execution_count": null,
   "metadata": {
    "colab": {
     "base_uri": "https://localhost:8080/"
    },
    "id": "9uSINjpWqMKe",
    "outputId": "0597f746-ccf6-4dfe-839d-94842e969727"
   },
   "outputs": [],
   "source": [
    "data_train.shape"
   ]
  },
  {
   "cell_type": "code",
   "execution_count": null,
   "metadata": {
    "colab": {
     "base_uri": "https://localhost:8080/"
    },
    "id": "oSiWIPxzLZcf",
    "outputId": "75320e57-c2b7-4103-983c-fadd40196742"
   },
   "outputs": [],
   "source": [
    "url_test_pos = 'train-test/test_Arabic_tweets_negative_20190413.tsv'\n",
    "test_pos = pd.read_csv(url_test_pos, encoding='utf-8', sep='\\t', header=None)\n",
    "\n",
    "url_test_neg = 'train-test/test_Arabic_tweets_positive_20190413.tsv'\n",
    "test_neg = pd.read_csv(url_test_neg, encoding='utf-8', sep='\\t', header=None)\n",
    "\n",
    "\n",
    "data_test = pd.concat([test_pos, test_neg])\n",
    "data_test.columns = ['sentiment', 'tweet']\n",
    "data_test.sample(5)\n",
    "data_test.shape"
   ]
  },
  {
   "cell_type": "code",
   "execution_count": null,
   "metadata": {
    "id": "KSCGqhJbqp6F"
   },
   "outputs": [],
   "source": [
    "data_test = data_test.sample(frac=1)"
   ]
  },
  {
   "cell_type": "code",
   "execution_count": null,
   "metadata": {
    "id": "NphRbCcGq07D"
   },
   "outputs": [],
   "source": [
    "data_test= data_test.iloc[:6450,:]"
   ]
  },
  {
   "cell_type": "code",
   "execution_count": null,
   "metadata": {
    "colab": {
     "base_uri": "https://localhost:8080/"
    },
    "id": "xjMitFWWrEUO",
    "outputId": "ed45ed7b-49d7-44de-dc99-d5d082b2811d"
   },
   "outputs": [],
   "source": [
    "data_test.shape"
   ]
  },
  {
   "cell_type": "code",
   "execution_count": null,
   "metadata": {
    "colab": {
     "base_uri": "https://localhost:8080/"
    },
    "id": "PwpfN-VoOOzI",
    "outputId": "142b103d-524a-48fc-ccc5-ce88ce243a55"
   },
   "outputs": [],
   "source": [
    "import re\n",
    "import nltk\n",
    "\n",
    "nltk.download('stopwords')\n",
    "nltk.download('punkt')\n",
    "\n",
    "from nltk import word_tokenize\n",
    "from nltk.corpus import stopwords\n",
    "from nltk.stem.isri import ISRIStemmer"
   ]
  },
  {
   "cell_type": "code",
   "execution_count": null,
   "metadata": {
    "id": "gk6fb-fmOQfZ"
   },
   "outputs": [],
   "source": [
    "# //////////////////Normalization///////////////\n",
    "arabic_diacritics = re.compile(\"\"\"\n",
    "                             ّ    | \n",
    "                             َ    | \n",
    "                             ً    | \n",
    "                             ُ    | \n",
    "                             ٌ    | \n",
    "                             ِ    | \n",
    "                             ٍ    | \n",
    "                             ْ    | \n",
    "                             ـ     \n",
    "                         \"\"\", re.VERBOSE)\n",
    "\n",
    "def preprocess(new_text):\n",
    "        new_text = re.sub('<.*?>', ' ', new_text)   # remove HTML tags\n",
    "        new_text = re.sub(r'[^\\w\\s]', ' ', new_text) # remove punc.\n",
    "        new_text = re.sub(r'\\d+',' ',new_text)# remove numbers\n",
    "        new_text = re.sub(\"[إأآا]\", \"ا\", new_text)\n",
    "        new_text = re.sub(arabic_diacritics, '', new_text)\n",
    "        new_text = re.sub('@',' ',new_text)\n",
    "        new_text = re.sub(r'[a-zA-Z]', ' ', new_text)\n",
    "        new_text = re.sub('_',' ',new_text)         \n",
    "        return new_text\n",
    "\n",
    "\n",
    "data_train['tweet']= data_train['tweet'].apply(lambda x: preprocess(x))\n",
    "data_test['tweet']= data_test['tweet'].apply(lambda x: preprocess(x))"
   ]
  },
  {
   "cell_type": "code",
   "execution_count": null,
   "metadata": {
    "id": "5TQW-dTMGQ5y"
   },
   "outputs": [],
   "source": [
    "data_train = data_train.sample(frac=1)\n",
    "data_test = data_test.sample(frac=1)"
   ]
  },
  {
   "cell_type": "code",
   "execution_count": null,
   "metadata": {
    "colab": {
     "base_uri": "https://localhost:8080/",
     "height": 206
    },
    "id": "-NTOQQOuFpqK",
    "outputId": "684f2183-4b7a-48a1-a94c-9a86b08b5548"
   },
   "outputs": [],
   "source": [
    "data_train.head(5)"
   ]
  },
  {
   "cell_type": "code",
   "execution_count": null,
   "metadata": {
    "colab": {
     "base_uri": "https://localhost:8080/",
     "height": 206
    },
    "id": "pEoxd1vOFpLZ",
    "outputId": "94bd8c18-249c-4a57-bc5f-2c7ffc903c76"
   },
   "outputs": [],
   "source": [
    "data_test.head(5)"
   ]
  },
  {
   "cell_type": "code",
   "execution_count": null,
   "metadata": {
    "colab": {
     "base_uri": "https://localhost:8080/"
    },
    "id": "SpRbZLkpOfkk",
    "outputId": "a754e82a-4380-434d-9481-c3fdbd235705"
   },
   "outputs": [],
   "source": [
    "maxlen1 = data_train['tweet'].str.split().str.len().max()\n",
    "maxlen2 = data_test['tweet'].str.split().str.len().max()\n",
    "\n",
    "print(maxlen1)\n",
    "print(maxlen2)"
   ]
  },
  {
   "cell_type": "markdown",
   "metadata": {
    "id": "idOOlY9NPHZa"
   },
   "source": [
    "ARABERT"
   ]
  },
  {
   "cell_type": "code",
   "execution_count": null,
   "metadata": {
    "colab": {
     "base_uri": "https://localhost:8080/",
     "height": 349
    },
    "id": "xxzeVb07PG4e",
    "outputId": "4e0e7bce-dd8a-4d79-b9c1-3c231f36a1bc"
   },
   "outputs": [
    {
     "name": "stderr",
     "output_type": "stream",
     "text": [
      "/usr/local/lib/python3.7/dist-packages/ktrain/text/preprocessor.py:414: UserWarning: The class_names argument is replacing the classes argument. Please update your code.\n",
      "  warnings.warn('The class_names argument is replacing the classes argument. Please update your code.')\n"
     ]
    },
    {
     "name": "stdout",
     "output_type": "stream",
     "text": [
      "preprocessing train...\n",
      "language: ar\n",
      "train sequence lengths:\n",
      "\tmean : 12\n",
      "\t95percentile : 22\n",
      "\t99percentile : 25\n"
     ]
    },
    {
     "name": "stderr",
     "output_type": "stream",
     "text": [
      "/usr/local/lib/python3.7/dist-packages/ktrain/utils.py:589: UserWarning: class_names argument was ignored, as they were extracted from string labels in dataset\n",
      "  if self.get_classes(): warnings.warn('class_names argument was ignored, as they were extracted from string labels in dataset')\n"
     ]
    },
    {
     "data": {
      "text/html": [],
      "text/plain": [
       "<IPython.core.display.HTML object>"
      ]
     },
     "metadata": {
      "tags": []
     },
     "output_type": "display_data"
    },
    {
     "name": "stdout",
     "output_type": "stream",
     "text": [
      "Is Multi-Label? False\n",
      "preprocessing test...\n",
      "language: ar\n",
      "test sequence lengths:\n",
      "\tmean : 12\n",
      "\t95percentile : 22\n",
      "\t99percentile : 25\n"
     ]
    },
    {
     "data": {
      "text/html": [],
      "text/plain": [
       "<IPython.core.display.HTML object>"
      ]
     },
     "metadata": {
      "tags": []
     },
     "output_type": "display_data"
    }
   ],
   "source": [
    "MODEL_NAME = 'aubmindlab/bert-base-arabertv02'\n",
    "t = text.Transformer(MODEL_NAME, maxlen=512, classes=['pos','neg'])\n",
    "trn = t.preprocess_train(data_train['tweet'].values, data_train['sentiment'].values)\n",
    "val = t.preprocess_test(data_test['tweet'].values, data_test['sentiment'].values)"
   ]
  },
  {
   "cell_type": "code",
   "execution_count": null,
   "metadata": {
    "colab": {
     "base_uri": "https://localhost:8080/",
     "height": 67,
     "referenced_widgets": [
      "b9df2cf745df4386958c0f679b0b4479",
      "55703bde4ac34befb78f555069251b2a",
      "4e89fb7076624999aa3cf9afa47448e0",
      "0d8be92fcf1d4369994e645f1ce03384",
      "253f9af92ef24a529687a0794d800518",
      "b4969437dec6478cbd7dc9641f8660ca",
      "c5384a338fb04c96ade6b9317d42e262",
      "06999050ebb242d2a6b5003022b9b33b"
     ]
    },
    "id": "fM5bRMkMPNaK",
    "outputId": "9231bf40-add2-4f51-b2e8-8896b36c1470"
   },
   "outputs": [
    {
     "data": {
      "application/vnd.jupyter.widget-view+json": {
       "model_id": "b9df2cf745df4386958c0f679b0b4479",
       "version_major": 2,
       "version_minor": 0
      },
      "text/plain": [
       "HBox(children=(FloatProgress(value=0.0, description='Downloading', max=741883760.0, style=ProgressStyle(descri…"
      ]
     },
     "metadata": {
      "tags": []
     },
     "output_type": "display_data"
    },
    {
     "name": "stdout",
     "output_type": "stream",
     "text": [
      "\n"
     ]
    }
   ],
   "source": [
    "AraBERT_model = t.get_classifier()"
   ]
  },
  {
   "cell_type": "code",
   "execution_count": null,
   "metadata": {
    "id": "rSkWwqm0PP9_"
   },
   "outputs": [],
   "source": [
    "AraBERT_learner = ktrain.get_learner(AraBERT_model, train_data=trn, val_data=val, batch_size=6)\n",
    "AraBERT_learner.fit_onecycle(lr = 2e-5, epochs=2)"
   ]
  },
  {
   "cell_type": "code",
   "execution_count": null,
   "metadata": {
    "id": "2T-dKU8LPUlS"
   },
   "outputs": [],
   "source": [
    "AraBERT_learner.validate(class_names=t.get_classes())"
   ]
  },
  {
   "cell_type": "code",
   "execution_count": null,
   "metadata": {},
   "outputs": [],
   "source": [
    "predictor = ktrain.get_predictor(AraBERT_learner.model, t)"
   ]
  },
  {
   "cell_type": "code",
   "execution_count": null,
   "metadata": {
    "id": "HFXM2CERPUf9"
   },
   "outputs": [],
   "source": [
    "predictor.save('Ara_BERTv01')"
   ]
  },
  {
   "cell_type": "code",
   "execution_count": null,
   "metadata": {
    "id": "vgdk_lhHJRCs"
   },
   "outputs": [],
   "source": []
  }
 ],
 "metadata": {
  "accelerator": "GPU",
  "colab": {
   "collapsed_sections": [],
   "name": "visualization_prj.ipynb",
   "provenance": []
  },
  "kernelspec": {
   "display_name": "Python 3",
   "language": "python",
   "name": "python3"
  },
  "language_info": {
   "codemirror_mode": {
    "name": "ipython",
    "version": 3
   },
   "file_extension": ".py",
   "mimetype": "text/x-python",
   "name": "python",
   "nbconvert_exporter": "python",
   "pygments_lexer": "ipython3",
   "version": "3.8.5"
  },
  "widgets": {
   "application/vnd.jupyter.widget-state+json": {
    "06999050ebb242d2a6b5003022b9b33b": {
     "model_module": "@jupyter-widgets/base",
     "model_name": "LayoutModel",
     "state": {
      "_model_module": "@jupyter-widgets/base",
      "_model_module_version": "1.2.0",
      "_model_name": "LayoutModel",
      "_view_count": null,
      "_view_module": "@jupyter-widgets/base",
      "_view_module_version": "1.2.0",
      "_view_name": "LayoutView",
      "align_content": null,
      "align_items": null,
      "align_self": null,
      "border": null,
      "bottom": null,
      "display": null,
      "flex": null,
      "flex_flow": null,
      "grid_area": null,
      "grid_auto_columns": null,
      "grid_auto_flow": null,
      "grid_auto_rows": null,
      "grid_column": null,
      "grid_gap": null,
      "grid_row": null,
      "grid_template_areas": null,
      "grid_template_columns": null,
      "grid_template_rows": null,
      "height": null,
      "justify_content": null,
      "justify_items": null,
      "left": null,
      "margin": null,
      "max_height": null,
      "max_width": null,
      "min_height": null,
      "min_width": null,
      "object_fit": null,
      "object_position": null,
      "order": null,
      "overflow": null,
      "overflow_x": null,
      "overflow_y": null,
      "padding": null,
      "right": null,
      "top": null,
      "visibility": null,
      "width": null
     }
    },
    "0d8be92fcf1d4369994e645f1ce03384": {
     "model_module": "@jupyter-widgets/controls",
     "model_name": "HTMLModel",
     "state": {
      "_dom_classes": [],
      "_model_module": "@jupyter-widgets/controls",
      "_model_module_version": "1.5.0",
      "_model_name": "HTMLModel",
      "_view_count": null,
      "_view_module": "@jupyter-widgets/controls",
      "_view_module_version": "1.5.0",
      "_view_name": "HTMLView",
      "description": "",
      "description_tooltip": null,
      "layout": "IPY_MODEL_06999050ebb242d2a6b5003022b9b33b",
      "placeholder": "​",
      "style": "IPY_MODEL_c5384a338fb04c96ade6b9317d42e262",
      "value": " 742M/742M [00:24&lt;00:00, 30.7MB/s]"
     }
    },
    "253f9af92ef24a529687a0794d800518": {
     "model_module": "@jupyter-widgets/controls",
     "model_name": "ProgressStyleModel",
     "state": {
      "_model_module": "@jupyter-widgets/controls",
      "_model_module_version": "1.5.0",
      "_model_name": "ProgressStyleModel",
      "_view_count": null,
      "_view_module": "@jupyter-widgets/base",
      "_view_module_version": "1.2.0",
      "_view_name": "StyleView",
      "bar_color": null,
      "description_width": "initial"
     }
    },
    "4e89fb7076624999aa3cf9afa47448e0": {
     "model_module": "@jupyter-widgets/controls",
     "model_name": "FloatProgressModel",
     "state": {
      "_dom_classes": [],
      "_model_module": "@jupyter-widgets/controls",
      "_model_module_version": "1.5.0",
      "_model_name": "FloatProgressModel",
      "_view_count": null,
      "_view_module": "@jupyter-widgets/controls",
      "_view_module_version": "1.5.0",
      "_view_name": "ProgressView",
      "bar_style": "success",
      "description": "Downloading: 100%",
      "description_tooltip": null,
      "layout": "IPY_MODEL_b4969437dec6478cbd7dc9641f8660ca",
      "max": 741883760,
      "min": 0,
      "orientation": "horizontal",
      "style": "IPY_MODEL_253f9af92ef24a529687a0794d800518",
      "value": 741883760
     }
    },
    "55703bde4ac34befb78f555069251b2a": {
     "model_module": "@jupyter-widgets/base",
     "model_name": "LayoutModel",
     "state": {
      "_model_module": "@jupyter-widgets/base",
      "_model_module_version": "1.2.0",
      "_model_name": "LayoutModel",
      "_view_count": null,
      "_view_module": "@jupyter-widgets/base",
      "_view_module_version": "1.2.0",
      "_view_name": "LayoutView",
      "align_content": null,
      "align_items": null,
      "align_self": null,
      "border": null,
      "bottom": null,
      "display": null,
      "flex": null,
      "flex_flow": null,
      "grid_area": null,
      "grid_auto_columns": null,
      "grid_auto_flow": null,
      "grid_auto_rows": null,
      "grid_column": null,
      "grid_gap": null,
      "grid_row": null,
      "grid_template_areas": null,
      "grid_template_columns": null,
      "grid_template_rows": null,
      "height": null,
      "justify_content": null,
      "justify_items": null,
      "left": null,
      "margin": null,
      "max_height": null,
      "max_width": null,
      "min_height": null,
      "min_width": null,
      "object_fit": null,
      "object_position": null,
      "order": null,
      "overflow": null,
      "overflow_x": null,
      "overflow_y": null,
      "padding": null,
      "right": null,
      "top": null,
      "visibility": null,
      "width": null
     }
    },
    "b4969437dec6478cbd7dc9641f8660ca": {
     "model_module": "@jupyter-widgets/base",
     "model_name": "LayoutModel",
     "state": {
      "_model_module": "@jupyter-widgets/base",
      "_model_module_version": "1.2.0",
      "_model_name": "LayoutModel",
      "_view_count": null,
      "_view_module": "@jupyter-widgets/base",
      "_view_module_version": "1.2.0",
      "_view_name": "LayoutView",
      "align_content": null,
      "align_items": null,
      "align_self": null,
      "border": null,
      "bottom": null,
      "display": null,
      "flex": null,
      "flex_flow": null,
      "grid_area": null,
      "grid_auto_columns": null,
      "grid_auto_flow": null,
      "grid_auto_rows": null,
      "grid_column": null,
      "grid_gap": null,
      "grid_row": null,
      "grid_template_areas": null,
      "grid_template_columns": null,
      "grid_template_rows": null,
      "height": null,
      "justify_content": null,
      "justify_items": null,
      "left": null,
      "margin": null,
      "max_height": null,
      "max_width": null,
      "min_height": null,
      "min_width": null,
      "object_fit": null,
      "object_position": null,
      "order": null,
      "overflow": null,
      "overflow_x": null,
      "overflow_y": null,
      "padding": null,
      "right": null,
      "top": null,
      "visibility": null,
      "width": null
     }
    },
    "b9df2cf745df4386958c0f679b0b4479": {
     "model_module": "@jupyter-widgets/controls",
     "model_name": "HBoxModel",
     "state": {
      "_dom_classes": [],
      "_model_module": "@jupyter-widgets/controls",
      "_model_module_version": "1.5.0",
      "_model_name": "HBoxModel",
      "_view_count": null,
      "_view_module": "@jupyter-widgets/controls",
      "_view_module_version": "1.5.0",
      "_view_name": "HBoxView",
      "box_style": "",
      "children": [
       "IPY_MODEL_4e89fb7076624999aa3cf9afa47448e0",
       "IPY_MODEL_0d8be92fcf1d4369994e645f1ce03384"
      ],
      "layout": "IPY_MODEL_55703bde4ac34befb78f555069251b2a"
     }
    },
    "c5384a338fb04c96ade6b9317d42e262": {
     "model_module": "@jupyter-widgets/controls",
     "model_name": "DescriptionStyleModel",
     "state": {
      "_model_module": "@jupyter-widgets/controls",
      "_model_module_version": "1.5.0",
      "_model_name": "DescriptionStyleModel",
      "_view_count": null,
      "_view_module": "@jupyter-widgets/base",
      "_view_module_version": "1.2.0",
      "_view_name": "StyleView",
      "description_width": ""
     }
    }
   }
  }
 },
 "nbformat": 4,
 "nbformat_minor": 1
}
