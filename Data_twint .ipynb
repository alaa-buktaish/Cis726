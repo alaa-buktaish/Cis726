{
 "cells": [
  {
   "cell_type": "markdown",
   "metadata": {},
   "source": [
    "## Import The Libraries and Packages\n"
   ]
  },
  {
   "cell_type": "code",
   "execution_count": 10,
   "metadata": {
    "id": "cP-FVFKdOFqe"
   },
   "outputs": [
    {
     "name": "stdout",
     "output_type": "stream",
     "text": [
      "Requirement already satisfied: twint in c:\\users\\computergy world\\appdata\\roaming\\python\\python38\\site-packages (2.1.21)\n",
      "Requirement already satisfied: dataclasses in c:\\users\\computergy world\\appdata\\roaming\\python\\python38\\site-packages (from twint) (0.6)\n",
      "Requirement already satisfied: elasticsearch in c:\\users\\computergy world\\anaconda3\\lib\\site-packages (from twint) (7.12.0)\n",
      "Requirement already satisfied: schedule in c:\\users\\computergy world\\anaconda3\\lib\\site-packages (from twint) (1.0.0)\n",
      "Requirement already satisfied: geopy in c:\\users\\computergy world\\anaconda3\\lib\\site-packages (from twint) (2.1.0)\n",
      "Requirement already satisfied: pandas in c:\\users\\computergy world\\anaconda3\\lib\\site-packages (from twint) (1.1.3)\n",
      "Requirement already satisfied: aiohttp-socks in c:\\users\\computergy world\\anaconda3\\lib\\site-packages (from twint) (0.6.0)\n",
      "Requirement already satisfied: aiohttp in c:\\users\\computergy world\\anaconda3\\lib\\site-packages (from twint) (3.7.4.post0)\n",
      "Requirement already satisfied: googletransx in c:\\users\\computergy world\\anaconda3\\lib\\site-packages (from twint) (2.4.2)\n",
      "Requirement already satisfied: pysocks in c:\\users\\computergy world\\anaconda3\\lib\\site-packages (from twint) (1.7.1)\n",
      "Requirement already satisfied: aiodns in c:\\users\\computergy world\\anaconda3\\lib\\site-packages (from twint) (2.0.0)\n",
      "Requirement already satisfied: beautifulsoup4 in c:\\users\\computergy world\\anaconda3\\lib\\site-packages (from twint) (4.9.3)\n",
      "Requirement already satisfied: cchardet in c:\\users\\computergy world\\anaconda3\\lib\\site-packages (from twint) (2.1.7)\n",
      "Requirement already satisfied: fake-useragent in c:\\users\\computergy world\\anaconda3\\lib\\site-packages (from twint) (0.1.11)\n",
      "Requirement already satisfied: certifi in c:\\users\\computergy world\\anaconda3\\lib\\site-packages (from elasticsearch->twint) (2020.6.20)\n",
      "Requirement already satisfied: urllib3<2,>=1.21.1 in c:\\users\\computergy world\\anaconda3\\lib\\site-packages (from elasticsearch->twint) (1.25.11)\n",
      "Requirement already satisfied: geographiclib<2,>=1.49 in c:\\users\\computergy world\\anaconda3\\lib\\site-packages (from geopy->twint) (1.50)\n",
      "Requirement already satisfied: pytz>=2017.2 in c:\\users\\computergy world\\anaconda3\\lib\\site-packages (from pandas->twint) (2020.1)\n",
      "Requirement already satisfied: numpy>=1.15.4 in c:\\users\\computergy world\\anaconda3\\lib\\site-packages (from pandas->twint) (1.19.2)\n",
      "Requirement already satisfied: python-dateutil>=2.7.3 in c:\\users\\computergy world\\anaconda3\\lib\\site-packages (from pandas->twint) (2.8.1)\n",
      "Requirement already satisfied: attrs>=19.2.0 in c:\\users\\computergy world\\anaconda3\\lib\\site-packages (from aiohttp-socks->twint) (20.3.0)\n",
      "Requirement already satisfied: python-socks[asyncio]>=1.2.2 in c:\\users\\computergy world\\anaconda3\\lib\\site-packages (from aiohttp-socks->twint) (1.2.3)\n",
      "Requirement already satisfied: typing-extensions>=3.6.5 in c:\\users\\computergy world\\anaconda3\\lib\\site-packages (from aiohttp->twint) (3.7.4.3)\n",
      "Requirement already satisfied: async-timeout<4.0,>=3.0 in c:\\users\\computergy world\\anaconda3\\lib\\site-packages (from aiohttp->twint) (3.0.1)\n",
      "Requirement already satisfied: yarl<2.0,>=1.0 in c:\\users\\computergy world\\anaconda3\\lib\\site-packages (from aiohttp->twint) (1.6.3)\n",
      "Requirement already satisfied: chardet<5.0,>=2.0 in c:\\users\\computergy world\\anaconda3\\lib\\site-packages (from aiohttp->twint) (3.0.4)\n",
      "Requirement already satisfied: multidict<7.0,>=4.5 in c:\\users\\computergy world\\anaconda3\\lib\\site-packages (from aiohttp->twint) (5.1.0)\n",
      "Requirement already satisfied: requests in c:\\users\\computergy world\\anaconda3\\lib\\site-packages (from googletransx->twint) (2.24.0)\n",
      "Requirement already satisfied: pycares>=3.0.0 in c:\\users\\computergy world\\anaconda3\\lib\\site-packages (from aiodns->twint) (3.1.1)\n",
      "Requirement already satisfied: soupsieve>1.2; python_version >= \"3.0\" in c:\\users\\computergy world\\anaconda3\\lib\\site-packages (from beautifulsoup4->twint) (2.0.1)\n",
      "Requirement already satisfied: six>=1.5 in c:\\users\\computergy world\\anaconda3\\lib\\site-packages (from python-dateutil>=2.7.3->pandas->twint) (1.15.0)\n",
      "Requirement already satisfied: idna>=2.0 in c:\\users\\computergy world\\anaconda3\\lib\\site-packages (from yarl<2.0,>=1.0->aiohttp->twint) (2.10)\n",
      "Requirement already satisfied: cffi>=1.5.0 in c:\\users\\computergy world\\anaconda3\\lib\\site-packages (from pycares>=3.0.0->aiodns->twint) (1.14.3)\n",
      "Requirement already satisfied: pycparser in c:\\users\\computergy world\\anaconda3\\lib\\site-packages (from cffi>=1.5.0->pycares>=3.0.0->aiodns->twint) (2.20)\n"
     ]
    }
   ],
   "source": [
    "!pip install twint"
   ]
  },
  {
   "cell_type": "code",
   "execution_count": 11,
   "metadata": {
    "scrolled": true
   },
   "outputs": [
    {
     "name": "stdout",
     "output_type": "stream",
     "text": [
      "Collecting twint\n",
      "  Cloning https://github.com/twintproject/twint.git (to revision origin/master) to c:\\users\\computergy world\\appdata\\local\\temp\\pip-install-6fhqbkps\\twint\n",
      "Requirement already satisfied, skipping upgrade: aiohttp in c:\\users\\computergy world\\anaconda3\\lib\\site-packages (from twint) (3.7.4.post0)\n",
      "Requirement already satisfied, skipping upgrade: aiodns in c:\\users\\computergy world\\anaconda3\\lib\\site-packages (from twint) (2.0.0)\n",
      "Requirement already satisfied, skipping upgrade: beautifulsoup4 in c:\\users\\computergy world\\anaconda3\\lib\\site-packages (from twint) (4.9.3)\n",
      "Requirement already satisfied, skipping upgrade: cchardet in c:\\users\\computergy world\\anaconda3\\lib\\site-packages (from twint) (2.1.7)\n",
      "Requirement already satisfied, skipping upgrade: dataclasses in c:\\users\\computergy world\\appdata\\roaming\\python\\python38\\site-packages (from twint) (0.6)\n",
      "Requirement already satisfied, skipping upgrade: elasticsearch in c:\\users\\computergy world\\anaconda3\\lib\\site-packages (from twint) (7.12.0)\n",
      "Requirement already satisfied, skipping upgrade: pysocks in c:\\users\\computergy world\\anaconda3\\lib\\site-packages (from twint) (1.7.1)\n",
      "Requirement already satisfied, skipping upgrade: pandas in c:\\users\\computergy world\\anaconda3\\lib\\site-packages (from twint) (1.1.3)\n",
      "Requirement already satisfied, skipping upgrade: aiohttp_socks in c:\\users\\computergy world\\anaconda3\\lib\\site-packages (from twint) (0.6.0)\n",
      "Requirement already satisfied, skipping upgrade: schedule in c:\\users\\computergy world\\anaconda3\\lib\\site-packages (from twint) (1.0.0)\n",
      "Requirement already satisfied, skipping upgrade: geopy in c:\\users\\computergy world\\anaconda3\\lib\\site-packages (from twint) (2.1.0)\n",
      "Requirement already satisfied, skipping upgrade: fake-useragent in c:\\users\\computergy world\\anaconda3\\lib\\site-packages (from twint) (0.1.11)\n",
      "Requirement already satisfied, skipping upgrade: googletransx in c:\\users\\computergy world\\anaconda3\\lib\\site-packages (from twint) (2.4.2)\n",
      "Requirement already satisfied, skipping upgrade: yarl<2.0,>=1.0 in c:\\users\\computergy world\\anaconda3\\lib\\site-packages (from aiohttp->twint) (1.6.3)\n",
      "Requirement already satisfied, skipping upgrade: typing-extensions>=3.6.5 in c:\\users\\computergy world\\anaconda3\\lib\\site-packages (from aiohttp->twint) (3.7.4.3)\n",
      "Requirement already satisfied, skipping upgrade: multidict<7.0,>=4.5 in c:\\users\\computergy world\\anaconda3\\lib\\site-packages (from aiohttp->twint) (5.1.0)\n",
      "Requirement already satisfied, skipping upgrade: attrs>=17.3.0 in c:\\users\\computergy world\\anaconda3\\lib\\site-packages (from aiohttp->twint) (20.3.0)\n",
      "Requirement already satisfied, skipping upgrade: async-timeout<4.0,>=3.0 in c:\\users\\computergy world\\anaconda3\\lib\\site-packages (from aiohttp->twint) (3.0.1)\n",
      "Requirement already satisfied, skipping upgrade: chardet<5.0,>=2.0 in c:\\users\\computergy world\\anaconda3\\lib\\site-packages (from aiohttp->twint) (3.0.4)\n",
      "Requirement already satisfied, skipping upgrade: pycares>=3.0.0 in c:\\users\\computergy world\\anaconda3\\lib\\site-packages (from aiodns->twint) (3.1.1)\n",
      "Requirement already satisfied, skipping upgrade: soupsieve>1.2; python_version >= \"3.0\" in c:\\users\\computergy world\\anaconda3\\lib\\site-packages (from beautifulsoup4->twint) (2.0.1)\n",
      "Requirement already satisfied, skipping upgrade: urllib3<2,>=1.21.1 in c:\\users\\computergy world\\anaconda3\\lib\\site-packages (from elasticsearch->twint) (1.25.11)\n",
      "Requirement already satisfied, skipping upgrade: certifi in c:\\users\\computergy world\\anaconda3\\lib\\site-packages (from elasticsearch->twint) (2020.6.20)\n",
      "Requirement already satisfied, skipping upgrade: numpy>=1.15.4 in c:\\users\\computergy world\\anaconda3\\lib\\site-packages (from pandas->twint) (1.19.2)\n",
      "Requirement already satisfied, skipping upgrade: pytz>=2017.2 in c:\\users\\computergy world\\anaconda3\\lib\\site-packages (from pandas->twint) (2020.1)\n",
      "Requirement already satisfied, skipping upgrade: python-dateutil>=2.7.3 in c:\\users\\computergy world\\anaconda3\\lib\\site-packages (from pandas->twint) (2.8.1)\n",
      "Requirement already satisfied, skipping upgrade: python-socks[asyncio]>=1.2.2 in c:\\users\\computergy world\\anaconda3\\lib\\site-packages (from aiohttp_socks->twint) (1.2.3)\n",
      "Requirement already satisfied, skipping upgrade: geographiclib<2,>=1.49 in c:\\users\\computergy world\\anaconda3\\lib\\site-packages (from geopy->twint) (1.50)\n",
      "Requirement already satisfied, skipping upgrade: requests in c:\\users\\computergy world\\anaconda3\\lib\\site-packages (from googletransx->twint) (2.24.0)\n",
      "Requirement already satisfied, skipping upgrade: idna>=2.0 in c:\\users\\computergy world\\anaconda3\\lib\\site-packages (from yarl<2.0,>=1.0->aiohttp->twint) (2.10)\n",
      "Requirement already satisfied, skipping upgrade: cffi>=1.5.0 in c:\\users\\computergy world\\anaconda3\\lib\\site-packages (from pycares>=3.0.0->aiodns->twint) (1.14.3)\n",
      "Requirement already satisfied, skipping upgrade: six>=1.5 in c:\\users\\computergy world\\anaconda3\\lib\\site-packages (from python-dateutil>=2.7.3->pandas->twint) (1.15.0)\n",
      "Requirement already satisfied, skipping upgrade: pycparser in c:\\users\\computergy world\\anaconda3\\lib\\site-packages (from cffi>=1.5.0->pycares>=3.0.0->aiodns->twint) (2.20)\n",
      "Building wheels for collected packages: twint\n",
      "  Building wheel for twint (setup.py): started\n",
      "  Building wheel for twint (setup.py): finished with status 'done'\n",
      "  Created wheel for twint: filename=twint-2.1.21-py3-none-any.whl size=39137 sha256=8d48e8f7b3578c3f0dad09b0feef8135e59d64ebfe336495d140ed0f39e6e411\n",
      "  Stored in directory: C:\\Users\\Computergy World\\AppData\\Local\\Temp\\pip-ephem-wheel-cache-t7ic8q9a\\wheels\\82\\67\\14\\5495652787d3c55288164de4234c0712a1f785a64f61f1ea70\n",
      "Successfully built twint\n",
      "Installing collected packages: twint\n",
      "  Attempting uninstall: twint\n",
      "    Found existing installation: twint 2.1.21\n",
      "    Uninstalling twint-2.1.21:\n",
      "      Successfully uninstalled twint-2.1.21\n",
      "Successfully installed twint-2.1.21\n"
     ]
    },
    {
     "name": "stderr",
     "output_type": "stream",
     "text": [
      "  WARNING: Did not find branch or tag 'origin/master', assuming revision or ref.\n",
      "  WARNING: The script twint.exe is installed in 'C:\\Users\\Computergy World\\AppData\\Roaming\\Python\\Python38\\Scripts' which is not on PATH.\n",
      "  Consider adding this directory to PATH or, if you prefer to suppress this warning, use --no-warn-script-location.\n"
     ]
    }
   ],
   "source": [
    "!pip install --user --upgrade git+https://github.com/twintproject/twint.git@origin/master#egg=twint"
   ]
  },
  {
   "cell_type": "code",
   "execution_count": 12,
   "metadata": {},
   "outputs": [],
   "source": [
    "import twint\n",
    "import datetime\n",
    "import nest_asyncio\n",
    "import pandas as pd"
   ]
  },
  {
   "cell_type": "code",
   "execution_count": 13,
   "metadata": {},
   "outputs": [],
   "source": [
    "import nest_asyncio\n",
    "nest_asyncio.apply()"
   ]
  },
  {
   "cell_type": "markdown",
   "metadata": {},
   "source": [
    "## Twint"
   ]
  },
  {
   "cell_type": "code",
   "execution_count": 13,
   "metadata": {
    "scrolled": true
   },
   "outputs": [
    {
     "name": "stdout",
     "output_type": "stream",
     "text": [
      "1383187412046782464 2021-04-17 01:35:52 +0300 <JordanZad1> ميركل تأخذ اللقاح الاوروبي المثير للجدل  https://t.co/wDj8rAvwus  https://t.co/lvFmA6Mbz8\n",
      "1383159405290618884 2021-04-16 23:44:34 +0300 <Alordonalyoom> وزير الخارجية القطري: حضور كأس العالم 2022 يجب أن يكون لمن حصل على اللقاح #الأردن_اليوم   https://t.co/nsjqLHKAPS\n",
      "1383153327635107845 2021-04-16 23:20:25 +0300 <Johinanewscom> وزير الخارجية القطري: حضور كأس العالم 2022 يجب أن يكون لمن حصل على اللقاح   https://t.co/nwV7qQ3IDI  https://t.co/6kDiXL8xP8\n",
      "1383150473092460547 2021-04-16 23:09:05 +0300 <alrai> وزير الخارجية القطري: حضور كأس العالم 2022 يجب أن يكون لمن حصل على اللقاح #صحيفة_الرأي #الأردن #عاجل   https://t.co/J7mgfNlv4o\n",
      "1383149327380586505 2021-04-16 23:04:31 +0300 <rumnewsonline> وزير الخارجية القطري: حضور كأس العالم 2022 يجب أن يكون لمن حصل على اللقاح  https://t.co/k7ydEKvZyh #عاجل\n",
      "1383147555714895874 2021-04-16 22:57:29 +0300 <assabeeldotnet> قطر: حضور كأس العالم 2022 يجب أن يكون لمن حصل على اللقاح @assabeeldotnet  https://t.co/qjzpn7l6v3\n",
      "1383146396447035400 2021-04-16 22:52:53 +0300 <khaberni> حضور كأس العالم 2022 مرتبط بتلقي اللقاح   https://t.co/ceWO4gWOdv\n",
      "1383146031387398145 2021-04-16 22:51:26 +0300 <Gollanar80> في فيلم براد بيت ( الزومبي ) عندما دخل ليحصل على اللقاح الادق لينجو من سعار الزومبي .. ! دخل الى معمل فيه لقاحات بعدد شركات كثر لا يعد .. وهذا دليل على ان تجاربهم المريره ستمكث على البشر اعواما وليس عام او عامين .. اي ستتعايشون على المطاعيم قبل ان ينطلق عالم الزومبي !  https://t.co/E7q9gQXjSZ\n",
      "1383145863531356160 2021-04-16 22:50:46 +0300 <ossaydrababah18> النا أسبوعين تقريبًا بدون السُّلطات الثلاثة لذلك رسالتي لصانع القرار:  الحظر الشامل والحظر الجزئي وإغلاق القطاعات، كل هذه القصص هي سبب في زيادة إصابات كورونا وليس الحد منها.  لذلك بتمنى ترجع الحياة لطبيعتها مع الإستمرار بارتداء الكمامة وأخذ اللقاح والتباعد الإجتماعي.  #بدنا_نعيش\n",
      "1383141383339409417 2021-04-16 22:32:57 +0300 <aabuseido> **  تخبط واضح .. لازال في طور التجارب    ومناعة لستة أشهر فقط ...    اللقاح الصيني هو الأفضل ...     قناة الحقيقة الدولية/ \"فايزر\" ترجح الحاجة لجرعة ثالثة من لقاحها ضد كورونا - عبر تطبيق نبض @NabdApp   https://t.co/UT7LLh9rCM\n",
      "1383136992960073729 2021-04-16 22:15:31 +0300 <OmarAlTikriity> @Dr_H_USA87 ويرحم امواتك اخوية الغالي ويحفظك ويبعد عنك وعن احبابك شر هذا الوباء  يارب العالم يستوعب خطر هذا الوباء ويسارع باخذ اللقاح\n",
      "1383135023570812930 2021-04-16 22:07:41 +0300 <OmarAlTikriity> اخواني واحبائي واصدقائي لسلامتكم وسلامة اهلكم واحبابكم سارعوا باخذ اللقاح كم اتمنى لو كان ابي قد استطاع اللحاق باخذ اللقاح حتى لا اخسره بسبب #فايروس_كورونا اللعين رحمك الله يا ابي وحفظ الله اهلنا واحبابنا من شر هذا الوباء  #اللقاح_ما_مات #اللقاح #العراق  https://t.co/DWIStbFgA3\n",
      "1383104449049149447 2021-04-16 20:06:12 +0300 <UNHCRJordan> إعرف أكثر عن لقاح فيروس كورونا من خلال هذا الفيديو. للمزيد حول اللقاح:  https://t.co/ousIT2b4xQ للتسجيل:  https://t.co/9XVDgr8dkP  Find out more on the COVID-19 vaccine through this video. To learn more about the vaccine:  https://t.co/XvhViraExA To register:  https://t.co/9XVDgr8dkP  https://t.co/7DAxYdMa9i\n",
      "1383026935605911554 2021-04-16 14:58:11 +0300 <arrowHizza> @IslamAlhmoud سلامات ما عليك شر.. انا سخرية القدر عندي مداومة ومخالطة نص حالات كورونا وماخده كل الاجراءات وطوارئ التعقيم وما انصبت ابدا ... بس روحت اخدت اللقاح !! مرضت! 😭\n",
      "1383019724175446016 2021-04-16 14:29:32 +0300 <AyasrahWaed> @OmarSal78030656 مبدئيا اللي بيعطو اللقاح كلهم ممرضات !! 😂😂\n",
      "1382994015545593856 2021-04-16 12:47:22 +0300 <alrai> فايزر: جرعة ثالثة من اللقاح ستكون ضرورية \"على الأرجح\" #صحيفة_الرأي #الأردن   https://t.co/qsHWn8JY6S\n",
      "1382971147470397440 2021-04-16 11:16:30 +0300 <AwadMuneeb> @qweenof2020 @ibrahemelsabaah @HalaZAlabbadi1 بناء ع اخذ اللقاح\n",
      "1382971006155952129 2021-04-16 11:15:56 +0300 <AwadMuneeb> @HalaZAlabbadi1 طبعا لان هناك اجبار لأخذ اللقاح المميت\n",
      "[!] No more data! Scraping will stop now.\n",
      "found 0 deleted tweets in this search.\n"
     ]
    }
   ],
   "source": [
    "# Fetch data in a data frame\n",
    "\n",
    "start_time='2021-04-16 00:00:00'\n",
    "end_time='2021-04-17 00:02:00'\n",
    "\n",
    "c = twint.Config()\n",
    "c.Near = \"Amman\"\n",
    "c.Search = \"اللقاح\"\n",
    "c.Since= start_time\n",
    "c.Until= end_time\n",
    "c.Pandas = True\n",
    "c.Store_csv = True\n",
    "#c.Hide_output = True\n",
    "c.Pandas = True\n",
    "c.Resume = \"resume.txt\"\n",
    "c.Output = \"Data\\Adata16.csv\"\n",
    "twint.run.Search(c)\n"
   ]
  },
  {
   "cell_type": "code",
   "execution_count": 3,
   "metadata": {},
   "outputs": [],
   "source": [
    "def data_Search (word ,start_time,end_time,path ):\n",
    "    c = twint.Config()\n",
    "    c.Near = \"Amman\"\n",
    "    c.Search = \"لقاح\"\n",
    "    c.Since= start_time\n",
    "    c.Until= end_time\n",
    "    c.Pandas = True\n",
    "    c.Store_csv = True\n",
    "    c.Hide_output = True\n",
    "    c.Pandas = True\n",
    "    c.Resume = \"resume.txt\"\n",
    "    c.Output = path\n",
    "    twint.run.Search(c)\n"
   ]
  },
  {
   "cell_type": "code",
   "execution_count": 78,
   "metadata": {},
   "outputs": [
    {
     "name": "stdout",
     "output_type": "stream",
     "text": [
      "[!] No more data! Scraping will stop now.\n",
      "found 0 deleted tweets in this search.\n"
     ]
    }
   ],
   "source": [
    "start_time='2021-03-01 00:00:00'\n",
    "end_time='2021-04-01 00:02:00'\n",
    "word = \"لقاح\"\n",
    "path = \"Data\\Twint\\Adata2021-3.csv\"\n",
    "data_Search(word ,start_time,end_time,path)"
   ]
  },
  {
   "cell_type": "code",
   "execution_count": 80,
   "metadata": {},
   "outputs": [
    {
     "name": "stdout",
     "output_type": "stream",
     "text": [
      "[!] No more data! Scraping will stop now.\n",
      "found 0 deleted tweets in this search.\n"
     ]
    }
   ],
   "source": [
    "start_time='2021-03-01 00:00:00'\n",
    "end_time='2021-04-01 00:02:00'\n",
    "word = \"القاح\"\n",
    "path = \"Data\\Twint\\Adata2021-32.csv\"\n",
    "data_Search(word ,start_time,end_time,path)"
   ]
  },
  {
   "cell_type": "code",
   "execution_count": 81,
   "metadata": {},
   "outputs": [
    {
     "name": "stdout",
     "output_type": "stream",
     "text": [
      "[!] No more data! Scraping will stop now.\n",
      "found 0 deleted tweets in this search.\n"
     ]
    }
   ],
   "source": [
    "start_time='2021-03-01 00:00:00'\n",
    "end_time='2021-04-01 00:02:00'\n",
    "word = \"مطعوم\"\n",
    "path = \"Data\\Twint\\Adata2021-33.csv\"\n",
    "data_Search(word ,start_time,end_time,path)"
   ]
  },
  {
   "cell_type": "code",
   "execution_count": 82,
   "metadata": {},
   "outputs": [
    {
     "name": "stdout",
     "output_type": "stream",
     "text": [
      "[!] No more data! Scraping will stop now.\n",
      "found 0 deleted tweets in this search.\n"
     ]
    }
   ],
   "source": [
    "start_time='2021-03-01 00:00:00'\n",
    "end_time='2021-04-01 00:02:00'\n",
    "word = \"مطاعيم\"\n",
    "path = \"Data\\Twint\\Adata2021-33.csv\"\n",
    "data_Search(word ,start_time,end_time,path)"
   ]
  },
  {
   "cell_type": "code",
   "execution_count": 25,
   "metadata": {},
   "outputs": [
    {
     "name": "stdout",
     "output_type": "stream",
     "text": [
      "[!] No more data! Scraping will stop now.\n",
      "found 0 deleted tweets in this search.\n"
     ]
    }
   ],
   "source": [
    "start_time='2021-04-12 00:00:00'\n",
    "end_time='2021-04-13 00:02:00'\n",
    "word = \"لقاح\"\n",
    "path = \"Data\\Twint\\Adata12.csv\"\n",
    "data_Search(word ,start_time,end_time,path)\n"
   ]
  },
  {
   "cell_type": "code",
   "execution_count": 26,
   "metadata": {},
   "outputs": [
    {
     "name": "stdout",
     "output_type": "stream",
     "text": [
      "[!] No more data! Scraping will stop now.\n",
      "found 0 deleted tweets in this search.\n"
     ]
    }
   ],
   "source": [
    "start_time='2021-04-01 00:00:00'\n",
    "end_time='2021-04-13 00:02:00'\n",
    "word = \"لقاح\"\n",
    "path = \"Data\\Twint\\Adata1-13.csv\"\n",
    "data_Search(word ,start_time,end_time,path)"
   ]
  },
  {
   "cell_type": "code",
   "execution_count": 27,
   "metadata": {},
   "outputs": [
    {
     "name": "stdout",
     "output_type": "stream",
     "text": [
      "[!] No more data! Scraping will stop now.\n",
      "found 0 deleted tweets in this search.\n"
     ]
    }
   ],
   "source": [
    "start_time='2021-03-01 00:00:00'\n",
    "end_time='2021-04-01 00:02:00'\n",
    "word = \"المطعوم\"\n",
    "path = \"Data\\Twint\\Adata32.csv\"\n",
    "data_Search(word ,start_time,end_time,path)\n"
   ]
  },
  {
   "cell_type": "code",
   "execution_count": 36,
   "metadata": {},
   "outputs": [
    {
     "name": "stdout",
     "output_type": "stream",
     "text": [
      "[!] No more data! Scraping will stop now.\n",
      "found 0 deleted tweets in this search.\n"
     ]
    }
   ],
   "source": [
    "start_time='2021-01-01 00:00:00'\n",
    "end_time='2021-03-01 00:02:00'\n",
    "word = \"المطعوم\"\n",
    "path = \"Data\\Twint\\Adata1-3.csv\"\n",
    "data_Search(word ,start_time,end_time,path)\n"
   ]
  },
  {
   "cell_type": "code",
   "execution_count": 37,
   "metadata": {},
   "outputs": [
    {
     "name": "stdout",
     "output_type": "stream",
     "text": [
      "[!] No more data! Scraping will stop now.\n",
      "found 0 deleted tweets in this search.\n"
     ]
    }
   ],
   "source": [
    "start_time='2021-01-01 00:00:00'\n",
    "end_time='2021-03-01 00:02:00'\n",
    "word = \"مطعوم\"\n",
    "path = \"Data\\Twint\\Adata1-32.csv\"\n",
    "data_Search(word ,start_time,end_time,path)\n"
   ]
  },
  {
   "cell_type": "code",
   "execution_count": 8,
   "metadata": {},
   "outputs": [],
   "source": [
    "start_time='2020-01-01 00:00:00'\n",
    "end_time='2021-01-01 00:02:00'\n",
    "word = \"لقاح\"\n",
    "path = \"Data\\Twint\\Adata2020_2.csv\"\n",
    "data_Search(word ,start_time,end_time,path)\n"
   ]
  },
  {
   "cell_type": "code",
   "execution_count": 9,
   "metadata": {
    "scrolled": true
   },
   "outputs": [],
   "source": [
    "start_time='2020-01-01 00:00:00'\n",
    "end_time='2021-01-01 00:02:00'\n",
    "word = \"المطعوم\"\n",
    "path = \"Data\\Twint\\Adata2020_2.csv\"\n",
    "data_Search(word ,start_time,end_time,path)\n"
   ]
  },
  {
   "cell_type": "code",
   "execution_count": 14,
   "metadata": {},
   "outputs": [],
   "source": [
    "start_time='2020-01-01 00:00:00'\n",
    "end_time='2021-01-01 00:02:00'\n",
    "word = \"مطعوم\"\n",
    "path = \"Data\\Twint\\Adata2020_2.csv\"\n",
    "data_Search(word ,start_time,end_time,path)\n"
   ]
  },
  {
   "cell_type": "code",
   "execution_count": 41,
   "metadata": {},
   "outputs": [
    {
     "name": "stdout",
     "output_type": "stream",
     "text": [
      "[!] No more data! Scraping will stop now.\n",
      "found 0 deleted tweets in this search.\n"
     ]
    }
   ],
   "source": [
    "start_time='2021-04-17 00:00:00'\n",
    "end_time='2021-04-27 20:00:00'\n",
    "word = \"المطعوم\"\n",
    "path = \"Data\\Twint\\Adata17-27.csv\"\n",
    "data_Search(word ,start_time,end_time,path)\n"
   ]
  },
  {
   "cell_type": "code",
   "execution_count": 39,
   "metadata": {},
   "outputs": [
    {
     "name": "stdout",
     "output_type": "stream",
     "text": [
      "[!] No more data! Scraping will stop now.\n",
      "found 0 deleted tweets in this search.\n"
     ]
    }
   ],
   "source": [
    "start_time='2021-04-17 00:00:00'\n",
    "end_time='2021-04-27 20:02:00'\n",
    "word = \"لقاح\"\n",
    "path = \"Data\\Twint\\Adata17-27_2.csv\"\n",
    "data_Search(word ,start_time,end_time,path)\n"
   ]
  },
  {
   "cell_type": "code",
   "execution_count": 38,
   "metadata": {},
   "outputs": [
    {
     "name": "stdout",
     "output_type": "stream",
     "text": [
      "[!] No more data! Scraping will stop now.\n",
      "found 0 deleted tweets in this search.\n"
     ]
    }
   ],
   "source": [
    "start_time='2021-04-17 00:00:00'\n",
    "end_time='2021-04-27 20:02:00'\n",
    "word = \"مطعوم\"\n",
    "path = \"Data\\Twint\\Adata17-27_3.csv\"\n",
    "data_Search(word ,start_time,end_time,path)\n"
   ]
  },
  {
   "cell_type": "code",
   "execution_count": 42,
   "metadata": {},
   "outputs": [
    {
     "name": "stdout",
     "output_type": "stream",
     "text": [
      "[!] No more data! Scraping will stop now.\n",
      "found 0 deleted tweets in this search.\n"
     ]
    }
   ],
   "source": [
    "start_time='2021-04-17 00:00:00'\n",
    "end_time='2021-04-27 20:02:00'\n",
    "word = \"مطاعيم\"\n",
    "path = \"Data\\Twint\\Adata17-27_4.csv\"\n",
    "data_Search(word ,start_time,end_time,path)\n"
   ]
  },
  {
   "cell_type": "code",
   "execution_count": 53,
   "metadata": {},
   "outputs": [
    {
     "name": "stdout",
     "output_type": "stream",
     "text": [
      "[!] No more data! Scraping will stop now.\n",
      "found 0 deleted tweets in this search.\n"
     ]
    }
   ],
   "source": [
    "start_time='2020-04-01 00:00:00'\n",
    "end_time='2020-04-30 20:02:00'\n",
    "word = \"مطعوم\"\n",
    "path = \"Data\\Twint\\Adata2020_4.csv\"\n",
    "data_Search(word ,start_time,end_time,path)\n"
   ]
  },
  {
   "cell_type": "code",
   "execution_count": 55,
   "metadata": {},
   "outputs": [
    {
     "name": "stdout",
     "output_type": "stream",
     "text": [
      "[!] No more data! Scraping will stop now.\n",
      "found 0 deleted tweets in this search.\n"
     ]
    }
   ],
   "source": [
    "start_time='2020-05-01 00:00:00'\n",
    "end_time='2020-05-31 20:02:00'\n",
    "word = \"مطاعيم\"\n",
    "path = \"Data\\Twint\\Adata2020_5.csv\"\n",
    "data_Search(word ,start_time,end_time,path)\n"
   ]
  },
  {
   "cell_type": "code",
   "execution_count": 57,
   "metadata": {},
   "outputs": [
    {
     "name": "stdout",
     "output_type": "stream",
     "text": [
      "[!] No more data! Scraping will stop now.\n",
      "found 0 deleted tweets in this search.\n"
     ]
    }
   ],
   "source": [
    "start_time='2020-06-01 00:00:00'\n",
    "end_time='2020-06-30 20:02:00'\n",
    "word = \"لقاح\"\n",
    "path = \"Data\\Twint\\Adata2020_6.csv\"\n",
    "data_Search(word ,start_time,end_time,path)\n"
   ]
  },
  {
   "cell_type": "code",
   "execution_count": 60,
   "metadata": {},
   "outputs": [
    {
     "name": "stdout",
     "output_type": "stream",
     "text": [
      "[!] No more data! Scraping will stop now.\n",
      "found 0 deleted tweets in this search.\n"
     ]
    }
   ],
   "source": [
    "start_time='2020-09-01 00:00:00'\n",
    "end_time='2020-09-30 20:02:00'\n",
    "word = \"لقاح\"\n",
    "path = \"Data\\Twint\\Adata2020_9.csv\"\n",
    "data_Search(word ,start_time,end_time,path)\n"
   ]
  },
  {
   "cell_type": "code",
   "execution_count": 64,
   "metadata": {},
   "outputs": [
    {
     "name": "stdout",
     "output_type": "stream",
     "text": [
      "[!] No more data! Scraping will stop now.\n",
      "found 0 deleted tweets in this search.\n"
     ]
    }
   ],
   "source": [
    "start_time='2020-10-01 00:00:00'\n",
    "end_time='2020-10-30 20:02:00'\n",
    "word = \"مطاعيم\"\n",
    "path = \"Data\\Twint\\Adata2020_10.csv\"\n",
    "data_Search(word ,start_time,end_time,path)\n"
   ]
  },
  {
   "cell_type": "code",
   "execution_count": 65,
   "metadata": {},
   "outputs": [
    {
     "name": "stdout",
     "output_type": "stream",
     "text": [
      "[!] No more data! Scraping will stop now.\n",
      "found 0 deleted tweets in this search.\n"
     ]
    }
   ],
   "source": [
    "start_time='2020-11-01 00:00:00'\n",
    "end_time='2020-11-30 20:02:00'\n",
    "word = \"مطاعيم\"\n",
    "path = \"Data\\Twint\\Adata2020_11.csv\"\n",
    "data_Search(word ,start_time,end_time,path)\n"
   ]
  },
  {
   "cell_type": "code",
   "execution_count": 66,
   "metadata": {},
   "outputs": [
    {
     "name": "stdout",
     "output_type": "stream",
     "text": [
      "[!] No more data! Scraping will stop now.\n",
      "found 0 deleted tweets in this search.\n"
     ]
    }
   ],
   "source": [
    "start_time='2020-11-01 00:00:00'\n",
    "end_time='2020-11-30 20:02:00'\n",
    "word = \"لقاح\"\n",
    "path = \"Data\\Twint\\Adata2020_11_2.csv\"\n",
    "data_Search(word ,start_time,end_time,path)\n"
   ]
  },
  {
   "cell_type": "code",
   "execution_count": 67,
   "metadata": {},
   "outputs": [
    {
     "name": "stdout",
     "output_type": "stream",
     "text": [
      "[!] No more data! Scraping will stop now.\n",
      "found 0 deleted tweets in this search.\n"
     ]
    }
   ],
   "source": [
    "start_time='2020-12-01 00:00:00'\n",
    "end_time='2020-12-30 20:02:00'\n",
    "word = \"لقاح\"\n",
    "path = \"Data\\Twint\\Adata2020_12.csv\"\n",
    "data_Search(word ,start_time,end_time,path)\n"
   ]
  },
  {
   "cell_type": "code",
   "execution_count": 68,
   "metadata": {},
   "outputs": [
    {
     "name": "stdout",
     "output_type": "stream",
     "text": [
      "[!] No more data! Scraping will stop now.\n",
      "found 0 deleted tweets in this search.\n"
     ]
    }
   ],
   "source": [
    "start_time='2020-12-01 00:00:00'\n",
    "end_time='2020-12-30 20:02:00'\n",
    "word = \"مطعوم\"\n",
    "path = \"Data\\Twint\\Adata2020_12.csv\"\n",
    "data_Search(word ,start_time,end_time,path)\n"
   ]
  },
  {
   "cell_type": "code",
   "execution_count": 71,
   "metadata": {},
   "outputs": [
    {
     "name": "stdout",
     "output_type": "stream",
     "text": [
      "[!] No more data! Scraping will stop now.\n",
      "found 0 deleted tweets in this search.\n"
     ]
    }
   ],
   "source": [
    "start_time='2021-02-01 00:00:00'\n",
    "end_time='2021-02-28 20:02:00'\n",
    "word = \"لقاح\"\n",
    "path = \"Data\\Twint\\Adata2021_2.csv\"\n",
    "data_Search(word ,start_time,end_time,path)\n"
   ]
  },
  {
   "cell_type": "markdown",
   "metadata": {},
   "source": [
    "## Concatenate the Data"
   ]
  },
  {
   "cell_type": "code",
   "execution_count": 83,
   "metadata": {},
   "outputs": [],
   "source": [
    "from os import listdir"
   ]
  },
  {
   "cell_type": "code",
   "execution_count": 84,
   "metadata": {},
   "outputs": [],
   "source": [
    "def df_con (path , df):\n",
    "    df1 = pd.read_csv(path)\n",
    "    return pd.concat([df1 , df], ignore_index=True)"
   ]
  },
  {
   "cell_type": "code",
   "execution_count": 85,
   "metadata": {},
   "outputs": [],
   "source": [
    "df = pd.read_csv('Data\\Adata32.csv')"
   ]
  },
  {
   "cell_type": "code",
   "execution_count": 86,
   "metadata": {},
   "outputs": [],
   "source": [
    "for i in listdir('Data\\Twint'):\n",
    "    path= 'Data\\Twint'+\"/\"+i\n",
    "    df = df_con(path , df)\n",
    "    \n"
   ]
  },
  {
   "cell_type": "code",
   "execution_count": 87,
   "metadata": {},
   "outputs": [
    {
     "data": {
      "text/html": [
       "<div>\n",
       "<style scoped>\n",
       "    .dataframe tbody tr th:only-of-type {\n",
       "        vertical-align: middle;\n",
       "    }\n",
       "\n",
       "    .dataframe tbody tr th {\n",
       "        vertical-align: top;\n",
       "    }\n",
       "\n",
       "    .dataframe thead th {\n",
       "        text-align: right;\n",
       "    }\n",
       "</style>\n",
       "<table border=\"1\" class=\"dataframe\">\n",
       "  <thead>\n",
       "    <tr style=\"text-align: right;\">\n",
       "      <th></th>\n",
       "      <th>id</th>\n",
       "      <th>conversation_id</th>\n",
       "      <th>created_at</th>\n",
       "      <th>date</th>\n",
       "      <th>time</th>\n",
       "      <th>timezone</th>\n",
       "      <th>user_id</th>\n",
       "      <th>username</th>\n",
       "      <th>name</th>\n",
       "      <th>place</th>\n",
       "      <th>...</th>\n",
       "      <th>geo</th>\n",
       "      <th>source</th>\n",
       "      <th>user_rt_id</th>\n",
       "      <th>user_rt</th>\n",
       "      <th>retweet_id</th>\n",
       "      <th>reply_to</th>\n",
       "      <th>retweet_date</th>\n",
       "      <th>translate</th>\n",
       "      <th>trans_src</th>\n",
       "      <th>trans_dest</th>\n",
       "    </tr>\n",
       "  </thead>\n",
       "  <tbody>\n",
       "    <tr>\n",
       "      <th>0</th>\n",
       "      <td>1239171659703234561</td>\n",
       "      <td>1239094040760549377</td>\n",
       "      <td>2020-03-15 14:48:41 Jordan Standard Time</td>\n",
       "      <td>2020-03-15</td>\n",
       "      <td>14:48:41</td>\n",
       "      <td>300</td>\n",
       "      <td>1166086392360906755</td>\n",
       "      <td>dd_d__dd</td>\n",
       "      <td>dima</td>\n",
       "      <td>NaN</td>\n",
       "      <td>...</td>\n",
       "      <td>NaN</td>\n",
       "      <td>NaN</td>\n",
       "      <td>NaN</td>\n",
       "      <td>NaN</td>\n",
       "      <td>NaN</td>\n",
       "      <td>[{'screen_name': 'husainbahbahani', 'name': 'D...</td>\n",
       "      <td>NaN</td>\n",
       "      <td>NaN</td>\n",
       "      <td>NaN</td>\n",
       "      <td>NaN</td>\n",
       "    </tr>\n",
       "    <tr>\n",
       "      <th>1</th>\n",
       "      <td>1239071550395088896</td>\n",
       "      <td>1238882658253447175</td>\n",
       "      <td>2020-03-15 08:10:53 Jordan Standard Time</td>\n",
       "      <td>2020-03-15</td>\n",
       "      <td>08:10:53</td>\n",
       "      <td>300</td>\n",
       "      <td>707023598</td>\n",
       "      <td>suhaib1983bb</td>\n",
       "      <td>صهيب ابو ناصر</td>\n",
       "      <td>NaN</td>\n",
       "      <td>...</td>\n",
       "      <td>NaN</td>\n",
       "      <td>NaN</td>\n",
       "      <td>NaN</td>\n",
       "      <td>NaN</td>\n",
       "      <td>NaN</td>\n",
       "      <td>[{'screen_name': 'Suzan_Awahhab', 'name': 'Suz...</td>\n",
       "      <td>NaN</td>\n",
       "      <td>NaN</td>\n",
       "      <td>NaN</td>\n",
       "      <td>NaN</td>\n",
       "    </tr>\n",
       "    <tr>\n",
       "      <th>2</th>\n",
       "      <td>1239067691714928640</td>\n",
       "      <td>1239055078331265024</td>\n",
       "      <td>2020-03-15 07:55:33 Jordan Standard Time</td>\n",
       "      <td>2020-03-15</td>\n",
       "      <td>07:55:33</td>\n",
       "      <td>300</td>\n",
       "      <td>27822741</td>\n",
       "      <td>monfasem</td>\n",
       "      <td>mOnFaSeM</td>\n",
       "      <td>NaN</td>\n",
       "      <td>...</td>\n",
       "      <td>NaN</td>\n",
       "      <td>NaN</td>\n",
       "      <td>NaN</td>\n",
       "      <td>NaN</td>\n",
       "      <td>NaN</td>\n",
       "      <td>[{'screen_name': 'Titanium_1', 'name': 'Titani...</td>\n",
       "      <td>NaN</td>\n",
       "      <td>NaN</td>\n",
       "      <td>NaN</td>\n",
       "      <td>NaN</td>\n",
       "    </tr>\n",
       "    <tr>\n",
       "      <th>3</th>\n",
       "      <td>1239066555482288128</td>\n",
       "      <td>1239055078331265024</td>\n",
       "      <td>2020-03-15 07:51:02 Jordan Standard Time</td>\n",
       "      <td>2020-03-15</td>\n",
       "      <td>07:51:02</td>\n",
       "      <td>300</td>\n",
       "      <td>258832892</td>\n",
       "      <td>titanium_1</td>\n",
       "      <td>Titanium 🧩</td>\n",
       "      <td>NaN</td>\n",
       "      <td>...</td>\n",
       "      <td>NaN</td>\n",
       "      <td>NaN</td>\n",
       "      <td>NaN</td>\n",
       "      <td>NaN</td>\n",
       "      <td>NaN</td>\n",
       "      <td>[{'screen_name': 'mOnFaSeM', 'name': 'mOnFaSeM...</td>\n",
       "      <td>NaN</td>\n",
       "      <td>NaN</td>\n",
       "      <td>NaN</td>\n",
       "      <td>NaN</td>\n",
       "    </tr>\n",
       "    <tr>\n",
       "      <th>4</th>\n",
       "      <td>1238949943500582914</td>\n",
       "      <td>1238949943500582914</td>\n",
       "      <td>2020-03-15 00:07:39 Jordan Standard Time</td>\n",
       "      <td>2020-03-15</td>\n",
       "      <td>00:07:39</td>\n",
       "      <td>300</td>\n",
       "      <td>258832892</td>\n",
       "      <td>titanium_1</td>\n",
       "      <td>Titanium 🧩</td>\n",
       "      <td>NaN</td>\n",
       "      <td>...</td>\n",
       "      <td>NaN</td>\n",
       "      <td>NaN</td>\n",
       "      <td>NaN</td>\n",
       "      <td>NaN</td>\n",
       "      <td>NaN</td>\n",
       "      <td>[]</td>\n",
       "      <td>NaN</td>\n",
       "      <td>NaN</td>\n",
       "      <td>NaN</td>\n",
       "      <td>NaN</td>\n",
       "    </tr>\n",
       "    <tr>\n",
       "      <th>...</th>\n",
       "      <td>...</td>\n",
       "      <td>...</td>\n",
       "      <td>...</td>\n",
       "      <td>...</td>\n",
       "      <td>...</td>\n",
       "      <td>...</td>\n",
       "      <td>...</td>\n",
       "      <td>...</td>\n",
       "      <td>...</td>\n",
       "      <td>...</td>\n",
       "      <td>...</td>\n",
       "      <td>...</td>\n",
       "      <td>...</td>\n",
       "      <td>...</td>\n",
       "      <td>...</td>\n",
       "      <td>...</td>\n",
       "      <td>...</td>\n",
       "      <td>...</td>\n",
       "      <td>...</td>\n",
       "      <td>...</td>\n",
       "      <td>...</td>\n",
       "    </tr>\n",
       "    <tr>\n",
       "      <th>2587</th>\n",
       "      <td>1371743011420377089</td>\n",
       "      <td>1371743011420377089</td>\n",
       "      <td>2021-03-16 10:39:54 Jordan Standard Time</td>\n",
       "      <td>2021-03-16</td>\n",
       "      <td>10:39:54</td>\n",
       "      <td>300</td>\n",
       "      <td>128490459</td>\n",
       "      <td>palinfoar</td>\n",
       "      <td>المركز الفلسطيني للإعلام</td>\n",
       "      <td>NaN</td>\n",
       "      <td>...</td>\n",
       "      <td>NaN</td>\n",
       "      <td>NaN</td>\n",
       "      <td>NaN</td>\n",
       "      <td>NaN</td>\n",
       "      <td>NaN</td>\n",
       "      <td>[]</td>\n",
       "      <td>NaN</td>\n",
       "      <td>NaN</td>\n",
       "      <td>NaN</td>\n",
       "      <td>NaN</td>\n",
       "    </tr>\n",
       "    <tr>\n",
       "      <th>2588</th>\n",
       "      <td>1370926197937410049</td>\n",
       "      <td>1370926197937410049</td>\n",
       "      <td>2021-03-14 04:34:10 Jordan Standard Time</td>\n",
       "      <td>2021-03-14</td>\n",
       "      <td>04:34:10</td>\n",
       "      <td>300</td>\n",
       "      <td>572670751</td>\n",
       "      <td>omj95</td>\n",
       "      <td>omar aljaradat ⚔️</td>\n",
       "      <td>NaN</td>\n",
       "      <td>...</td>\n",
       "      <td>NaN</td>\n",
       "      <td>NaN</td>\n",
       "      <td>NaN</td>\n",
       "      <td>NaN</td>\n",
       "      <td>NaN</td>\n",
       "      <td>[]</td>\n",
       "      <td>NaN</td>\n",
       "      <td>NaN</td>\n",
       "      <td>NaN</td>\n",
       "      <td>NaN</td>\n",
       "    </tr>\n",
       "    <tr>\n",
       "      <th>2589</th>\n",
       "      <td>1369737466710794245</td>\n",
       "      <td>1369737466710794245</td>\n",
       "      <td>2021-03-10 21:50:35 Jordan Standard Time</td>\n",
       "      <td>2021-03-10</td>\n",
       "      <td>21:50:35</td>\n",
       "      <td>300</td>\n",
       "      <td>196096282</td>\n",
       "      <td>bakerarabiat</td>\n",
       "      <td>Baker Arabiat</td>\n",
       "      <td>NaN</td>\n",
       "      <td>...</td>\n",
       "      <td>NaN</td>\n",
       "      <td>NaN</td>\n",
       "      <td>NaN</td>\n",
       "      <td>NaN</td>\n",
       "      <td>NaN</td>\n",
       "      <td>[]</td>\n",
       "      <td>NaN</td>\n",
       "      <td>NaN</td>\n",
       "      <td>NaN</td>\n",
       "      <td>NaN</td>\n",
       "    </tr>\n",
       "    <tr>\n",
       "      <th>2590</th>\n",
       "      <td>1367856639404081152</td>\n",
       "      <td>1367854590931202056</td>\n",
       "      <td>2021-03-05 17:16:51 Jordan Standard Time</td>\n",
       "      <td>2021-03-05</td>\n",
       "      <td>17:16:51</td>\n",
       "      <td>300</td>\n",
       "      <td>1187561389449269248</td>\n",
       "      <td>on0rsyb2wpr63vz</td>\n",
       "      <td>صابر محمد الفقهاء</td>\n",
       "      <td>NaN</td>\n",
       "      <td>...</td>\n",
       "      <td>NaN</td>\n",
       "      <td>NaN</td>\n",
       "      <td>NaN</td>\n",
       "      <td>NaN</td>\n",
       "      <td>NaN</td>\n",
       "      <td>[{'screen_name': 'YeniSafakArabic', 'name': 'ي...</td>\n",
       "      <td>NaN</td>\n",
       "      <td>NaN</td>\n",
       "      <td>NaN</td>\n",
       "      <td>NaN</td>\n",
       "    </tr>\n",
       "    <tr>\n",
       "      <th>2591</th>\n",
       "      <td>1367856263745437697</td>\n",
       "      <td>1367856263745437697</td>\n",
       "      <td>2021-03-05 17:15:21 Jordan Standard Time</td>\n",
       "      <td>2021-03-05</td>\n",
       "      <td>17:15:21</td>\n",
       "      <td>300</td>\n",
       "      <td>1187561389449269248</td>\n",
       "      <td>on0rsyb2wpr63vz</td>\n",
       "      <td>صابر محمد الفقهاء</td>\n",
       "      <td>NaN</td>\n",
       "      <td>...</td>\n",
       "      <td>NaN</td>\n",
       "      <td>NaN</td>\n",
       "      <td>NaN</td>\n",
       "      <td>NaN</td>\n",
       "      <td>NaN</td>\n",
       "      <td>[]</td>\n",
       "      <td>NaN</td>\n",
       "      <td>NaN</td>\n",
       "      <td>NaN</td>\n",
       "      <td>NaN</td>\n",
       "    </tr>\n",
       "  </tbody>\n",
       "</table>\n",
       "<p>2592 rows × 36 columns</p>\n",
       "</div>"
      ],
      "text/plain": [
       "                       id      conversation_id  \\\n",
       "0     1239171659703234561  1239094040760549377   \n",
       "1     1239071550395088896  1238882658253447175   \n",
       "2     1239067691714928640  1239055078331265024   \n",
       "3     1239066555482288128  1239055078331265024   \n",
       "4     1238949943500582914  1238949943500582914   \n",
       "...                   ...                  ...   \n",
       "2587  1371743011420377089  1371743011420377089   \n",
       "2588  1370926197937410049  1370926197937410049   \n",
       "2589  1369737466710794245  1369737466710794245   \n",
       "2590  1367856639404081152  1367854590931202056   \n",
       "2591  1367856263745437697  1367856263745437697   \n",
       "\n",
       "                                    created_at        date      time  \\\n",
       "0     2020-03-15 14:48:41 Jordan Standard Time  2020-03-15  14:48:41   \n",
       "1     2020-03-15 08:10:53 Jordan Standard Time  2020-03-15  08:10:53   \n",
       "2     2020-03-15 07:55:33 Jordan Standard Time  2020-03-15  07:55:33   \n",
       "3     2020-03-15 07:51:02 Jordan Standard Time  2020-03-15  07:51:02   \n",
       "4     2020-03-15 00:07:39 Jordan Standard Time  2020-03-15  00:07:39   \n",
       "...                                        ...         ...       ...   \n",
       "2587  2021-03-16 10:39:54 Jordan Standard Time  2021-03-16  10:39:54   \n",
       "2588  2021-03-14 04:34:10 Jordan Standard Time  2021-03-14  04:34:10   \n",
       "2589  2021-03-10 21:50:35 Jordan Standard Time  2021-03-10  21:50:35   \n",
       "2590  2021-03-05 17:16:51 Jordan Standard Time  2021-03-05  17:16:51   \n",
       "2591  2021-03-05 17:15:21 Jordan Standard Time  2021-03-05  17:15:21   \n",
       "\n",
       "      timezone              user_id         username  \\\n",
       "0          300  1166086392360906755         dd_d__dd   \n",
       "1          300            707023598     suhaib1983bb   \n",
       "2          300             27822741         monfasem   \n",
       "3          300            258832892       titanium_1   \n",
       "4          300            258832892       titanium_1   \n",
       "...        ...                  ...              ...   \n",
       "2587       300            128490459        palinfoar   \n",
       "2588       300            572670751            omj95   \n",
       "2589       300            196096282     bakerarabiat   \n",
       "2590       300  1187561389449269248  on0rsyb2wpr63vz   \n",
       "2591       300  1187561389449269248  on0rsyb2wpr63vz   \n",
       "\n",
       "                          name place  ... geo source user_rt_id user_rt  \\\n",
       "0                         dima   NaN  ... NaN    NaN        NaN     NaN   \n",
       "1                صهيب ابو ناصر   NaN  ... NaN    NaN        NaN     NaN   \n",
       "2                     mOnFaSeM   NaN  ... NaN    NaN        NaN     NaN   \n",
       "3                   Titanium 🧩   NaN  ... NaN    NaN        NaN     NaN   \n",
       "4                   Titanium 🧩   NaN  ... NaN    NaN        NaN     NaN   \n",
       "...                        ...   ...  ...  ..    ...        ...     ...   \n",
       "2587  المركز الفلسطيني للإعلام   NaN  ... NaN    NaN        NaN     NaN   \n",
       "2588         omar aljaradat ⚔️   NaN  ... NaN    NaN        NaN     NaN   \n",
       "2589             Baker Arabiat   NaN  ... NaN    NaN        NaN     NaN   \n",
       "2590         صابر محمد الفقهاء   NaN  ... NaN    NaN        NaN     NaN   \n",
       "2591         صابر محمد الفقهاء   NaN  ... NaN    NaN        NaN     NaN   \n",
       "\n",
       "     retweet_id                                           reply_to  \\\n",
       "0           NaN  [{'screen_name': 'husainbahbahani', 'name': 'D...   \n",
       "1           NaN  [{'screen_name': 'Suzan_Awahhab', 'name': 'Suz...   \n",
       "2           NaN  [{'screen_name': 'Titanium_1', 'name': 'Titani...   \n",
       "3           NaN  [{'screen_name': 'mOnFaSeM', 'name': 'mOnFaSeM...   \n",
       "4           NaN                                                 []   \n",
       "...         ...                                                ...   \n",
       "2587        NaN                                                 []   \n",
       "2588        NaN                                                 []   \n",
       "2589        NaN                                                 []   \n",
       "2590        NaN  [{'screen_name': 'YeniSafakArabic', 'name': 'ي...   \n",
       "2591        NaN                                                 []   \n",
       "\n",
       "      retweet_date  translate trans_src trans_dest  \n",
       "0              NaN        NaN       NaN        NaN  \n",
       "1              NaN        NaN       NaN        NaN  \n",
       "2              NaN        NaN       NaN        NaN  \n",
       "3              NaN        NaN       NaN        NaN  \n",
       "4              NaN        NaN       NaN        NaN  \n",
       "...            ...        ...       ...        ...  \n",
       "2587           NaN        NaN       NaN        NaN  \n",
       "2588           NaN        NaN       NaN        NaN  \n",
       "2589           NaN        NaN       NaN        NaN  \n",
       "2590           NaN        NaN       NaN        NaN  \n",
       "2591           NaN        NaN       NaN        NaN  \n",
       "\n",
       "[2592 rows x 36 columns]"
      ]
     },
     "execution_count": 87,
     "metadata": {},
     "output_type": "execute_result"
    }
   ],
   "source": [
    "df"
   ]
  },
  {
   "cell_type": "code",
   "execution_count": 88,
   "metadata": {},
   "outputs": [],
   "source": [
    "df.to_csv('Data\\Twint\\All_data_twint.csv' , encoding='utf-8')"
   ]
  },
  {
   "cell_type": "code",
   "execution_count": null,
   "metadata": {},
   "outputs": [],
   "source": []
  }
 ],
 "metadata": {
  "colab": {
   "name": "twint_demo2.ipynb",
   "provenance": []
  },
  "kernelspec": {
   "display_name": "Python 3",
   "language": "python",
   "name": "python3"
  },
  "language_info": {
   "codemirror_mode": {
    "name": "ipython",
    "version": 3
   },
   "file_extension": ".py",
   "mimetype": "text/x-python",
   "name": "python",
   "nbconvert_exporter": "python",
   "pygments_lexer": "ipython3",
   "version": "3.8.5"
  }
 },
 "nbformat": 4,
 "nbformat_minor": 1
}
